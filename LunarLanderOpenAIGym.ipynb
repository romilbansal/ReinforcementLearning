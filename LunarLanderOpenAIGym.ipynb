{
  "nbformat": 4,
  "nbformat_minor": 0,
  "metadata": {
    "colab": {
      "name": "GymCustomAI.ipynb",
      "provenance": [],
      "collapsed_sections": []
    },
    "kernelspec": {
      "name": "python3",
      "display_name": "Python 3"
    }
  },
  "cells": [
    {
      "cell_type": "code",
      "metadata": {
        "id": "x5UeoawPeB_v",
        "colab_type": "code",
        "colab": {
          "base_uri": "https://localhost:8080/",
          "height": 646
        },
        "outputId": "61235abb-31a0-44e5-c6ca-7624dc670646"
      },
      "source": [
        "!apt install swig cmake libopenmpi-dev zlib1g-dev\n",
        "!pip install stable-baselines==2.5.1 box2d box2d-kengz"
      ],
      "execution_count": 42,
      "outputs": [
        {
          "output_type": "stream",
          "text": [
            "Reading package lists... Done\n",
            "Building dependency tree       \n",
            "Reading state information... Done\n",
            "zlib1g-dev is already the newest version (1:1.2.11.dfsg-0ubuntu2).\n",
            "libopenmpi-dev is already the newest version (2.1.1-8).\n",
            "swig is already the newest version (3.0.12-1).\n",
            "cmake is already the newest version (3.10.2-1ubuntu2.18.04.1).\n",
            "0 upgraded, 0 newly installed, 0 to remove and 29 not upgraded.\n",
            "Requirement already satisfied: stable-baselines==2.5.1 in /usr/local/lib/python3.6/dist-packages (2.5.1)\n",
            "Requirement already satisfied: box2d in /usr/local/lib/python3.6/dist-packages (2.3.10)\n",
            "Requirement already satisfied: box2d-kengz in /usr/local/lib/python3.6/dist-packages (2.3.3)\n",
            "Requirement already satisfied: seaborn in /usr/local/lib/python3.6/dist-packages (from stable-baselines==2.5.1) (0.10.1)\n",
            "Requirement already satisfied: gym[atari,classic_control]>=0.10.9 in /usr/local/lib/python3.6/dist-packages (from stable-baselines==2.5.1) (0.17.1)\n",
            "Requirement already satisfied: tqdm in /usr/local/lib/python3.6/dist-packages (from stable-baselines==2.5.1) (4.41.1)\n",
            "Requirement already satisfied: matplotlib in /usr/local/lib/python3.6/dist-packages (from stable-baselines==2.5.1) (3.2.1)\n",
            "Requirement already satisfied: numpy in /usr/local/lib/python3.6/dist-packages (from stable-baselines==2.5.1) (1.18.4)\n",
            "Requirement already satisfied: joblib in /usr/local/lib/python3.6/dist-packages (from stable-baselines==2.5.1) (0.14.1)\n",
            "Requirement already satisfied: mpi4py in /usr/local/lib/python3.6/dist-packages (from stable-baselines==2.5.1) (3.0.3)\n",
            "Requirement already satisfied: dill in /usr/local/lib/python3.6/dist-packages (from stable-baselines==2.5.1) (0.3.1.1)\n",
            "Requirement already satisfied: pandas in /usr/local/lib/python3.6/dist-packages (from stable-baselines==2.5.1) (1.0.3)\n",
            "Requirement already satisfied: click in /usr/local/lib/python3.6/dist-packages (from stable-baselines==2.5.1) (7.1.2)\n",
            "Requirement already satisfied: zmq in /usr/local/lib/python3.6/dist-packages (from stable-baselines==2.5.1) (0.0.0)\n",
            "Requirement already satisfied: opencv-python in /usr/local/lib/python3.6/dist-packages (from stable-baselines==2.5.1) (4.1.2.30)\n",
            "Requirement already satisfied: cloudpickle>=0.5.5 in /usr/local/lib/python3.6/dist-packages (from stable-baselines==2.5.1) (1.3.0)\n",
            "Requirement already satisfied: scipy in /usr/local/lib/python3.6/dist-packages (from stable-baselines==2.5.1) (1.4.1)\n",
            "Requirement already satisfied: glob2 in /usr/local/lib/python3.6/dist-packages (from stable-baselines==2.5.1) (0.7)\n",
            "Requirement already satisfied: pyglet<=1.5.0,>=1.4.0 in /usr/local/lib/python3.6/dist-packages (from gym[atari,classic_control]>=0.10.9->stable-baselines==2.5.1) (1.5.0)\n",
            "Requirement already satisfied: six in /usr/local/lib/python3.6/dist-packages (from gym[atari,classic_control]>=0.10.9->stable-baselines==2.5.1) (1.12.0)\n",
            "Requirement already satisfied: atari-py~=0.2.0; extra == \"atari\" in /usr/local/lib/python3.6/dist-packages (from gym[atari,classic_control]>=0.10.9->stable-baselines==2.5.1) (0.2.6)\n",
            "Requirement already satisfied: Pillow; extra == \"atari\" in /usr/local/lib/python3.6/dist-packages (from gym[atari,classic_control]>=0.10.9->stable-baselines==2.5.1) (7.0.0)\n",
            "Requirement already satisfied: python-dateutil>=2.1 in /usr/local/lib/python3.6/dist-packages (from matplotlib->stable-baselines==2.5.1) (2.8.1)\n",
            "Requirement already satisfied: kiwisolver>=1.0.1 in /usr/local/lib/python3.6/dist-packages (from matplotlib->stable-baselines==2.5.1) (1.2.0)\n",
            "Requirement already satisfied: pyparsing!=2.0.4,!=2.1.2,!=2.1.6,>=2.0.1 in /usr/local/lib/python3.6/dist-packages (from matplotlib->stable-baselines==2.5.1) (2.4.7)\n",
            "Requirement already satisfied: cycler>=0.10 in /usr/local/lib/python3.6/dist-packages (from matplotlib->stable-baselines==2.5.1) (0.10.0)\n",
            "Requirement already satisfied: pytz>=2017.2 in /usr/local/lib/python3.6/dist-packages (from pandas->stable-baselines==2.5.1) (2018.9)\n",
            "Requirement already satisfied: pyzmq in /usr/local/lib/python3.6/dist-packages (from zmq->stable-baselines==2.5.1) (19.0.0)\n",
            "Requirement already satisfied: future in /usr/local/lib/python3.6/dist-packages (from pyglet<=1.5.0,>=1.4.0->gym[atari,classic_control]>=0.10.9->stable-baselines==2.5.1) (0.16.0)\n"
          ],
          "name": "stdout"
        }
      ]
    },
    {
      "cell_type": "code",
      "metadata": {
        "id": "i8lpevUxg9nW",
        "colab_type": "code",
        "colab": {
          "base_uri": "https://localhost:8080/",
          "height": 1000
        },
        "outputId": "e09ec7ae-c881-4fe0-f73c-28b5f3b97021"
      },
      "source": [
        "# Landing pad is always at coordinates (0,0). Coordinates are the first\n",
        "# two numbers in state vector. Reward for moving from the top of the screen\n",
        "# to landing pad and zero speed is about 100..140 points. If lander moves\n",
        "# away from landing pad it loses reward back. Episode finishes if the lander\n",
        "# crashes or comes to rest, receiving additional -100 or +100 points.\n",
        "# Each leg ground contact is +10. Firing main engine is -0.3 points each frame.\n",
        "# Solved is 200 points. Landing outside landing pad is possible. Fuel is\n",
        "# infinite, so an agent can learn to fly and then land on its first attempt.\n",
        "# Four discrete actions available: do nothing, fire left orientation engine,\n",
        "# fire main engine, fire right orientation engine.\n",
        "\n",
        "\n",
        "import gym\n",
        "import random\n",
        "from keras import Sequential\n",
        "from collections import deque\n",
        "from keras.layers import Dense\n",
        "from keras.optimizers import adam\n",
        "import matplotlib.pyplot as plt\n",
        "from keras.activations import relu, linear\n",
        "\n",
        "import numpy as np\n",
        "env = gym.make('LunarLander-v2')\n",
        "env.seed(0)\n",
        "np.random.seed(0)\n",
        "\n",
        "\n",
        "class DQN:\n",
        "\n",
        "    \"\"\" Implementation of deep q learning algorithm \"\"\"\n",
        "\n",
        "    def __init__(self, action_space, state_space):\n",
        "        self.action_space = action_space\n",
        "        self.state_space = state_space\n",
        "        self.epsilon = 1.0\n",
        "        self.gamma = .99\n",
        "        self.batch_size = 64\n",
        "        self.epsilon_min = .03\n",
        "        self.lr = 0.001\n",
        "        self.epsilon_decay = .996\n",
        "        self.memory = deque(maxlen=1000000)\n",
        "        self.model = self.build_model()\n",
        "\n",
        "    def build_model(self):\n",
        "        model = Sequential()\n",
        "        model.add(Dense(150, input_dim=self.state_space, activation=relu))\n",
        "        model.add(Dense(120, activation=relu))\n",
        "        model.add(Dense(self.action_space, activation=linear))\n",
        "        model.compile(loss='mse', optimizer=adam(lr=self.lr))\n",
        "        return model\n",
        "\n",
        "    def remember(self, state, action, reward, next_state, done):\n",
        "        self.memory.append((state, action, reward, next_state, done))\n",
        "\n",
        "    def act(self, state):\n",
        "        if np.random.rand() <= self.epsilon:\n",
        "            return random.randrange(self.action_space)\n",
        "        act_values = self.model.predict(state)\n",
        "        return np.argmax(act_values[0])\n",
        "\n",
        "    def replay(self):\n",
        "        if len(self.memory) < self.batch_size:\n",
        "            return\n",
        "        minibatch = random.sample(self.memory, self.batch_size)\n",
        "        states = np.array([i[0] for i in minibatch])\n",
        "        actions = np.array([i[1] for i in minibatch])\n",
        "        rewards = np.array([i[2] for i in minibatch])\n",
        "        next_states = np.array([i[3] for i in minibatch])\n",
        "        dones = np.array([i[4] for i in minibatch])\n",
        "\n",
        "        states = np.squeeze(states)\n",
        "        next_states = np.squeeze(next_states)\n",
        "\n",
        "        targets = rewards + self.gamma*(np.amax(self.model.predict_on_batch(next_states), axis=1))*(1-dones)\n",
        "        targets_full = self.model.predict_on_batch(states)\n",
        "        ind = np.array([i for i in range(self.batch_size)])\n",
        "        targets_full[[ind], [actions]] = targets\n",
        "\n",
        "        self.model.fit(states, targets_full, epochs=1, verbose=0)\n",
        "        if self.epsilon > self.epsilon_min:\n",
        "            self.epsilon *= self.epsilon_decay\n",
        "\n",
        "\n",
        "def train_dqn(episode, agent = None):\n",
        "    loss = []\n",
        "    if agent == None:\n",
        "      agent = DQN(env.action_space.n, env.observation_space.shape[0])\n",
        "    for e in range(episode):\n",
        "        state = env.reset()\n",
        "        state = np.reshape(state, (1, 8))\n",
        "        score = 0\n",
        "        max_steps = 3000\n",
        "        for i in range(max_steps):\n",
        "            action = agent.act(state)\n",
        "            next_state, reward, done, _ = env.step(action)\n",
        "            score += reward\n",
        "            next_state = np.reshape(next_state, (1, 8))\n",
        "            agent.remember(state, action, reward, next_state, done)\n",
        "            state = next_state\n",
        "            agent.replay()\n",
        "            if done:\n",
        "                print(\"episode: {}/{}, score: {}\".format(e, episode, score))\n",
        "                break\n",
        "        loss.append(score)\n",
        "\n",
        "        # Average score of last 100 episode\n",
        "        is_solved = np.mean(loss[-100:])\n",
        "        if is_solved > 300:\n",
        "            print('\\n Task Completed! \\n')\n",
        "            break\n",
        "        print(\"Average over last 100 episode: {0:.2f} \\n\".format(is_solved))\n",
        "    return loss, agent\n",
        "\n",
        "\n",
        "if __name__ == '__main__':\n",
        "    print(env.observation_space)\n",
        "    print(env.action_space)\n",
        "    episodes = 300\n",
        "    loss, agent = train_dqn(episodes)\n",
        "    plt.plot([i+1 for i in range(0, len(loss), 2)], loss[::2])\n",
        "    plt.show()"
      ],
      "execution_count": 61,
      "outputs": [
        {
          "output_type": "stream",
          "text": [
            "Box(8,)\n",
            "Discrete(4)\n",
            "episode: 0/50, score: 161.10201977247945\n",
            "Average over last 100 episode: 161.10 \n",
            "\n",
            "episode: 1/50, score: 204.44064254295023\n",
            "Average over last 100 episode: 182.77 \n",
            "\n",
            "episode: 2/50, score: 222.27087289610677\n",
            "Average over last 100 episode: 195.94 \n",
            "\n",
            "episode: 3/50, score: 235.40419205167814\n",
            "Average over last 100 episode: 205.80 \n",
            "\n",
            "episode: 4/50, score: 188.70915810984778\n",
            "Average over last 100 episode: 202.39 \n",
            "\n",
            "episode: 5/50, score: 265.77322381611407\n",
            "Average over last 100 episode: 212.95 \n",
            "\n",
            "episode: 6/50, score: 277.3307157122598\n",
            "Average over last 100 episode: 222.15 \n",
            "\n",
            "episode: 7/50, score: 281.8985673575412\n",
            "Average over last 100 episode: 229.62 \n",
            "\n",
            "episode: 8/50, score: 217.29884085646924\n",
            "Average over last 100 episode: 228.25 \n",
            "\n",
            "episode: 9/50, score: 228.44195919559857\n",
            "Average over last 100 episode: 228.27 \n",
            "\n",
            "episode: 10/50, score: 276.7153915518054\n",
            "Average over last 100 episode: 232.67 \n",
            "\n",
            "episode: 11/50, score: 273.74834622007006\n",
            "Average over last 100 episode: 236.09 \n",
            "\n",
            "episode: 12/50, score: 243.45847162925915\n",
            "Average over last 100 episode: 236.66 \n",
            "\n",
            "episode: 13/50, score: 238.60552267520126\n",
            "Average over last 100 episode: 236.80 \n",
            "\n",
            "episode: 14/50, score: 249.32269592661794\n",
            "Average over last 100 episode: 237.63 \n",
            "\n",
            "episode: 15/50, score: 225.67172973573258\n",
            "Average over last 100 episode: 236.89 \n",
            "\n",
            "episode: 16/50, score: 11.047341221909605\n",
            "Average over last 100 episode: 223.60 \n",
            "\n",
            "episode: 17/50, score: 256.7389864221409\n",
            "Average over last 100 episode: 225.44 \n",
            "\n",
            "episode: 18/50, score: -5.618832272881448\n",
            "Average over last 100 episode: 213.28 \n",
            "\n",
            "episode: 19/50, score: 215.22000162744416\n",
            "Average over last 100 episode: 213.38 \n",
            "\n",
            "episode: 20/50, score: 268.66067942224885\n",
            "Average over last 100 episode: 216.01 \n",
            "\n",
            "episode: 21/50, score: 255.53069974838735\n",
            "Average over last 100 episode: 217.81 \n",
            "\n",
            "episode: 22/50, score: 32.35059155743505\n",
            "Average over last 100 episode: 209.74 \n",
            "\n",
            "episode: 23/50, score: 294.59024708823557\n",
            "Average over last 100 episode: 213.28 \n",
            "\n",
            "episode: 24/50, score: 146.3327131111294\n",
            "Average over last 100 episode: 210.60 \n",
            "\n",
            "episode: 25/50, score: 285.1005567561839\n",
            "Average over last 100 episode: 213.47 \n",
            "\n",
            "episode: 26/50, score: 276.2361436371083\n",
            "Average over last 100 episode: 215.79 \n",
            "\n",
            "episode: 27/50, score: 192.34872263468208\n",
            "Average over last 100 episode: 214.95 \n",
            "\n",
            "episode: 28/50, score: 296.1493519571605\n",
            "Average over last 100 episode: 217.75 \n",
            "\n",
            "episode: 29/50, score: 243.9425051731816\n",
            "Average over last 100 episode: 218.63 \n",
            "\n",
            "episode: 30/50, score: 214.5881122834736\n",
            "Average over last 100 episode: 218.50 \n",
            "\n",
            "episode: 31/50, score: 263.19716653457556\n",
            "Average over last 100 episode: 219.89 \n",
            "\n",
            "episode: 32/50, score: 272.77481761856745\n",
            "Average over last 100 episode: 221.50 \n",
            "\n",
            "episode: 33/50, score: -121.01927341755315\n",
            "Average over last 100 episode: 211.42 \n",
            "\n",
            "episode: 34/50, score: 265.71888504174217\n",
            "Average over last 100 episode: 212.97 \n",
            "\n",
            "episode: 35/50, score: 240.8342220938559\n",
            "Average over last 100 episode: 213.75 \n",
            "\n",
            "episode: 36/50, score: 262.2733701352255\n",
            "Average over last 100 episode: 215.06 \n",
            "\n",
            "episode: 37/50, score: 309.7595346895806\n",
            "Average over last 100 episode: 217.55 \n",
            "\n",
            "episode: 38/50, score: 233.05566684299677\n",
            "Average over last 100 episode: 217.95 \n",
            "\n",
            "episode: 39/50, score: 233.49207970562887\n",
            "Average over last 100 episode: 218.34 \n",
            "\n",
            "episode: 40/50, score: 271.8726894451888\n",
            "Average over last 100 episode: 219.64 \n",
            "\n",
            "episode: 41/50, score: -219.4976828936978\n",
            "Average over last 100 episode: 209.19 \n",
            "\n",
            "episode: 42/50, score: -213.8422322752877\n",
            "Average over last 100 episode: 199.35 \n",
            "\n",
            "episode: 43/50, score: 292.76281562719987\n",
            "Average over last 100 episode: 201.47 \n",
            "\n",
            "episode: 44/50, score: 187.68879672374914\n",
            "Average over last 100 episode: 201.17 \n",
            "\n",
            "episode: 45/50, score: 253.65351089250055\n",
            "Average over last 100 episode: 202.31 \n",
            "\n",
            "episode: 46/50, score: 263.10314860424484\n",
            "Average over last 100 episode: 203.60 \n",
            "\n",
            "episode: 47/50, score: 55.076054160897726\n",
            "Average over last 100 episode: 200.51 \n",
            "\n",
            "episode: 48/50, score: 237.36130803223173\n",
            "Average over last 100 episode: 201.26 \n",
            "\n",
            "episode: 49/50, score: 221.09257704556373\n",
            "Average over last 100 episode: 201.66 \n",
            "\n"
          ],
          "name": "stdout"
        },
        {
          "output_type": "display_data",
          "data": {
            "image/png": "[encoded data removed]",
            "text/plain": [
              "<Figure size 432x288 with 1 Axes>"
            ]
          },
          "metadata": {
            "tags": [],
            "needs_background": "light"
          }
        }
      ]
    },
    {
      "cell_type": "code",
      "metadata": {
        "id": "ELv5bUvug-FG",
        "colab_type": "code",
        "colab": {
          "base_uri": "https://localhost:8080/",
          "height": 357
        },
        "outputId": "e66615fe-95ce-49a2-fdfc-521089ef2409"
      },
      "source": [
        "eieecchrvjfggurgrfelcrvcfdknkvtvvfvcddvdjgre\n",
        "!pip install pyvirtualdisplay\n",
        "!pip install piglet\n",
        "!apt-get install python-opengl -y\n",
        "!apt install xvfb -y"
      ],
      "execution_count": 43,
      "outputs": [
        {
          "output_type": "stream",
          "text": [
            "Requirement already satisfied: pyvirtualdisplay in /usr/local/lib/python3.6/dist-packages (0.2.5)\n",
            "Requirement already satisfied: EasyProcess in /usr/local/lib/python3.6/dist-packages (from pyvirtualdisplay) (0.3)\n",
            "Requirement already satisfied: piglet in /usr/local/lib/python3.6/dist-packages (1.0.0)\n",
            "Requirement already satisfied: piglet-templates in /usr/local/lib/python3.6/dist-packages (from piglet) (1.0.0)\n",
            "Requirement already satisfied: markupsafe in /usr/local/lib/python3.6/dist-packages (from piglet-templates->piglet) (1.1.1)\n",
            "Requirement already satisfied: Parsley in /usr/local/lib/python3.6/dist-packages (from piglet-templates->piglet) (1.3)\n",
            "Requirement already satisfied: attrs in /usr/local/lib/python3.6/dist-packages (from piglet-templates->piglet) (19.3.0)\n",
            "Requirement already satisfied: astunparse in /usr/local/lib/python3.6/dist-packages (from piglet-templates->piglet) (1.6.3)\n",
            "Requirement already satisfied: six<2.0,>=1.6.1 in /usr/local/lib/python3.6/dist-packages (from astunparse->piglet-templates->piglet) (1.12.0)\n",
            "Requirement already satisfied: wheel<1.0,>=0.23.0 in /usr/local/lib/python3.6/dist-packages (from astunparse->piglet-templates->piglet) (0.34.2)\n",
            "Reading package lists... Done\n",
            "Building dependency tree       \n",
            "Reading state information... Done\n",
            "python-opengl is already the newest version (3.1.0+dfsg-1).\n",
            "0 upgraded, 0 newly installed, 0 to remove and 29 not upgraded.\n",
            "Reading package lists... Done\n",
            "Building dependency tree       \n",
            "Reading state information... Done\n",
            "xvfb is already the newest version (2:1.19.6-1ubuntu4.4).\n",
            "0 upgraded, 0 newly installed, 0 to remove and 29 not upgraded.\n"
          ],
          "name": "stdout"
        }
      ]
    },
    {
      "cell_type": "code",
      "metadata": {
        "id": "KxF0x2yQkbz1",
        "colab_type": "code",
        "colab": {
          "base_uri": "https://localhost:8080/",
          "height": 71
        },
        "outputId": "e6537751-4477-4f8f-b725-2eef4dd09813"
      },
      "source": [
        "from pyvirtualdisplay import Display\n",
        "display = Display(visible=0, size=(1400, 900))\n",
        "display.start()"
      ],
      "execution_count": 44,
      "outputs": [
        {
          "output_type": "stream",
          "text": [
            "xdpyinfo was not found, X start can not be checked! Please install xdpyinfo!\n"
          ],
          "name": "stderr"
        },
        {
          "output_type": "execute_result",
          "data": {
            "text/plain": [
              "<Display cmd_param=['Xvfb', '-br', '-nolisten', 'tcp', '-screen', '0', '1400x900x24', ':1021'] cmd=['Xvfb', '-br', '-nolisten', 'tcp', '-screen', '0', '1400x900x24', ':1021'] oserror=None return_code=None stdout=\"None\" stderr=\"None\" timeout_happened=False>"
            ]
          },
          "metadata": {
            "tags": []
          },
          "execution_count": 44
        }
      ]
    },
    {
      "cell_type": "code",
      "metadata": {
        "id": "ZfpS9iMokel_",
        "colab_type": "code",
        "colab": {}
      },
      "source": [
        "\"\"\"\n",
        "Utility functions to enable video recording of gym environment and displaying it\n",
        "To enable video, just do \"env = wrap_env(env)\"\"\n",
        "\"\"\"\n",
        "import glob\n",
        "import io\n",
        "import base64\n",
        "from IPython.display import HTML\n",
        "\n",
        "from gym import logger as gymlogger\n",
        "from gym.wrappers import Monitor\n",
        "gymlogger.set_level(40) #error only\n",
        "\n",
        "from IPython import display as ipythondisplay\n",
        "\n",
        "def show_video():\n",
        "  mp4list = glob.glob('video/*.mp4')\n",
        "  if len(mp4list) > 0:\n",
        "    mp4 = mp4list[0]\n",
        "    video = io.open(mp4, 'r+b').read()\n",
        "    encoded = base64.b64encode(video)\n",
        "    ipythondisplay.display(HTML(data='''<video alt=\"test\" autoplay \n",
        "                loop controls style=\"height: 400px;\">\n",
        "                <source src=\"data:video/mp4;base64,{0}\" type=\"video/mp4\" />\n",
        "             </video>'''.format(encoded.decode('ascii'))))\n",
        "  else: \n",
        "    print(\"Could not find video\")\n",
        "    \n",
        "\n",
        "def wrap_env(env):\n",
        "  env = Monitor(env, './video', force=True)\n",
        "  return env"
      ],
      "execution_count": 0,
      "outputs": []
    },
    {
      "cell_type": "code",
      "metadata": {
        "id": "TcZJcq2Kkhdy",
        "colab_type": "code",
        "colab": {}
      },
      "source": [
        "env = gym.make('LunarLander-v2')\n",
        "env = wrap_env(env)"
      ],
      "execution_count": 0,
      "outputs": []
    },
    {
      "cell_type": "code",
      "metadata": {
        "id": "iyPwYlCmkj7Q",
        "colab_type": "code",
        "colab": {
          "base_uri": "https://localhost:8080/",
          "height": 438
        },
        "outputId": "e0769f33-4304-4bdb-ec3c-d145bb7b83db"
      },
      "source": [
        "env = gym.make('LunarLander-v2')\n",
        "env = wrap_env(env)\n",
        "observation = env.reset()\n",
        "steps = 0\n",
        "rewards = []\n",
        "while True:\n",
        "    env.render()\n",
        "    #your agent goes here\n",
        "    action = np.argmax(agent.model.predict(np.reshape(observation, (1, 8)))[0])\n",
        "    observation, reward, done, info = env.step(action) \n",
        "    rewards.append(reward)\n",
        "    if done: \n",
        "      break;\n",
        "    steps += 1\n",
        "print(sum(rewards))          \n",
        "env.close()\n",
        "\n",
        "show_video()"
      ],
      "execution_count": 75,
      "outputs": [
        {
          "output_type": "stream",
          "text": [
            "303.0966844304356\n"
          ],
          "name": "stdout"
        },
        {
          "output_type": "display_data",
          "data": {
            "text/html": [
              "<video alt=\"test\" autoplay \n",
              "                loop controls style=\"height: 400px;\">\n",
              "                <source src=\"data:video/mp4;base64,AAAAIGZ0eXBpc29tAAACAGlzb21pc28yYXZjMW1wNDEAAAAIZnJlZQAAnLttZGF0AAACrgYF//+q3EXpvebZSLeWLNgg2SPu73gyNjQgLSBjb3JlIDE1MiByMjg1NCBlOWE1OTAzIC0gSC4yNjQvTVBFRy00IEFWQyBjb2RlYyAtIENvcHlsZWZ0IDIwMDMtMjAxNyAtIGh0dHA6Ly93d3cudmlkZW9sYW4ub3JnL3gyNjQuaHRtbCAtIG9wdGlvbnM6IGNhYmFjPTEgcmVmPTMgZGVibG9jaz0xOjA6MCBhbmFseXNlPTB4MzoweDExMyBtZT1oZXggc3VibWU9NyBwc3k9MSBwc3lfcmQ9MS4wMDowLjAwIG1peGVkX3JlZj0xIG1lX3JhbmdlPTE2IGNocm9tYV9tZT0xIHRyZWxsaXM9MSA4eDhkY3Q9MSBjcW09MCBkZWFkem9uZT0yMSwxMSBmYXN0X3Bza2lwPTEgY2hyb21hX3FwX29mZnNldD0tMiB0aHJlYWRzPTMgbG9va2FoZWFkX3RocmVhZHM9MSBzbGljZWRfdGhyZWFkcz0wIG5yPTAgZGVjaW1hdGU9MSBpbnRlcmxhY2VkPTAgYmx1cmF5X2NvbXBhdD0wIGNvbnN0cmFpbmVkX2ludHJhPTAgYmZyYW1lcz0zIGJfcHlyYW1pZD0yIGJfYWRhcHQ9MSBiX2JpYXM9MCBkaXJlY3Q9MSB3ZWlnaHRiPTEgb3Blbl9nb3A9MCB3ZWlnaHRwPTIga2V5aW50PTI1MCBrZXlpbnRfbWluPTI1IHNjZW5lY3V0PTQwIGludHJhX3JlZnJlc2g9MCByY19sb29rYWhlYWQ9NDAgcmM9Y3JmIG1idHJlZT0xIGNyZj0yMy4wIHFjb21wPTAuNjAgcXBtaW49MCBxcG1heD02OSBxcHN0ZXA9NCBpcF9yYXRpbz0xLjQwIGFxPTE6MS4wMACAAAAHIGWIhAAv//72rvzLK3R+lS4dWXuzUfLoSXL9iDB9lNeCqACYAWDnqDNVHWj4RoPKRDv1na5TTxR4ID4PzQ7h84aBxbsXE7avZ07xTAtYVoDwKA2PcjvlgufX/U9PHXyK8ZTUVSeEozY3iugGTC4H+yuo7d5xhAtpeZxcCMjo9SDRVgvcn6eu9D+E43T4Il+S/cN3CfgmJU3oKwsBuMsnTSI9v9SBteMwxZTjxxqGg8wD697AAl0cPGeb8gCfoLRYxHJ3f0YiMTT9k2cJy6axm44/Dw73zUL4WQEyIiM/zAAAAwAAAwMcHsIWxKEbwBEtHUW7cAj/A5huG0ZeQ/mJGw+jaxJsAAH2B/oT4ga4XgX0bgh47BrDcGoQIs0qCGCPR2SPRFp4r6zFdL5qZ/vtI5vhfRLIyoxLaD5tplv9ieTgjax4DkMRila58vxQqNMciVem655j5jA6tRKpDjiWfuBJUQjkV+STMrVjqIsTe5ExS6fo+ZvxbO2PY3CcWWKuOgTR/r970KamKAZUd+inE0Mt5fxsHZFtyR6sUdZoNGwMM+0SunVWj/YhcuGgXyohAHQhtTrErwQrYWFd0VbhU8Vl6b2CfZc7cqR9xOMfyIAKNDaRLeqFA3Md4k2uPPl0zLTkaGuEsYtXTvWqcAIaq8mAENJwAmDv313qULugZdTgqWO8kY+t3kLpKQpEtUxJJ5n/ir2R5t2HvZWw12EPJRatd/lxk4CmOFrurASJ0HplQ+lCfriFcpFzdChIxlJMhqqcr4SZKX9TeEQghP/9bun2ct2Cdb5oExuMOkHmwspC4RmXs8DEw/oTJmT67rzkMZUPfOKW/p7Nx1wBw5/a3HFtAlTDodsMnTsaWseNAv3r9JuXRpBgTakUiTAZv50UIESgivoubTd1npz4jNDrQsPPwI0pEz4DXNp8bKhRlZxiOjzhrTy+fqZ41Db+5zWxxQv3ByToL0sXqyOuBuKtrgOKQmaJ8ZLi3AiNu7JftCJa44w3I/vVST8zOzksx4auKcTNtIdDZmrcqZBg0rK4YAdnxg/BzCdJEsGqTvOKTwkyMwQM9TVmaVL0iRnQSbXqDCxy/eCmHylmu3GkbJHz83Jj9Kl50t7QuIKQD4bVssyN75A993NRWwpTTxPOHOVHhHEPBIEGP2yTZaDN/mFz/ix9SwRWwFiGwdZaV8K1R6yCe7L8MGoKlC4vuzntxOEanPUf7+nay2lz1K3wgJWba2W86ZKSN+UWsqIHBBsuxgC/MEbXduCl9OLeRoMnL9G3qL1gAORmQNJer+QlNHi8ZDZHepYTty+5P4/LSXm51qB3yDziQST19R4KtSSXSraDi9wraMIxxRWclKniqXryNnWzlGscwOTVWxMru1+YRy00+hRYDN6sTtsV1ynBIqgPTFSMZq3AXnUuXtmfvvL7dafAgMzAOaGgCg46nbL//63YvIt2V33N67gUB7JQXWd+73Ef0ZzHrcRAIpeDSbLaCxCC9LhGOwUjCYaStmXAmn03VBVy7FjD1V5r+QBASZei32jK5V07jLhJ17aqO9fxoMUz7UbER/ErzFFVsYqk//ZVt6QcEZiE/GX+6H1gfL1aDA9XxXk8n/7FMUECW7d0iGXDm9XalexkBnmXTfvShy4G75QhfC/9ilUts4f3Gbn/Pvo/UU4/eURv0rD+2Wbc0r4EF5w13QmgS86Oyqo7ht/YTxLfy0REzax4NEji9AI6IgZGsyt7JXbMRO9c6uKn3YDNCo5URkklTBi+vWs5K5Q9jSctMPoNMvnoViLEPKO1SexLf06NgABebpb0KETwGnwn8mgPmCMLOVI1E7MRnUQyGuvDbKRlQNOlDej4lNIT7awEkpz0n6dSfKYhUZKu81xnzvSbvlINiHbLlA+P0L+CpPdyct7avypHEEO8f/+/T2gbynFXnh8D++t/ib0zVf8orxfWXJ7kpCZbxcXgHN6T87ErD5DcNrVW6jBX9j8AfO+TEwLJKVc/YEPrVcwVaaXBf+OR89dRYdWyrNMw1H3MzFgywniEhE/iOyFz2cKJJjQJr+xsFrSPiwmfUvC3Z8ojKdHo/qYgFt3GO0cOf/4u9mMS8XFD+nnaSY1U/PF3PzgW9YR3JDmDr1To4oCyuaEKEpQOgWp8Zw8cbovAa0LAlFVpn8D6FoqOcWu1bP7SJqzBoPW7MBlHI1PZnM8321PX/dvmZUefdwwQRlDeTzCK0nHWZcotTnkAAFLtL7D+HPaQTlI1U/hroGc7QdPwQ5WjuSXDj42rcv2GcP0mlKqJJTd19jNgU3PU50aP19kuEYfSWYtlN7I9/mDq38l12ssm6TZQzdX8nZfINUxY6SLze2IJTVWH6+S/tdl9wqlaeCfr6XqS5lMg0wxj+ZcedN4Vs/yD3r9yRwAP5VoINmtNXb0vOS7pbTdoAAB7QAABXwAAAShBmiFsQv/+jNMzf5+K/vapa83w0AHwaIw8FnyhUSpBxAMuSKNZkl5ix1AkyK1op7BJ1CYDdrClYg7TutxQQsiXw2QPb+G2HEtFU0ewe6RAZlmY5G4RC8GYAAAM341A568xmwhK1MD1NEEhj7LaFmyzaqGn+7tqmWwn6yVZVq3dQuFJzXRBrhgyQ3jfpT/0lhgrA4quxii7POqv79BfepWqE8mSnx2ogmctfP4h1dev5C/dMMmn8jo2o590jNMk2NWXYoMQaYfJwsYatxT5LW5MxOffUfFRCi6DP0qH1axCDvIfhMSCZe341cNFncOOwKXEht12ptX8qhlgolmO2uBQWK0A6eaprCNtXIdeUGibzAXA2HN6ifAwtesDv24lIfVPrWhl4P70UAAAAMdBmkU8IZMphC///ozEKha0AgBuvRdUkGtJtEwUvImcVQeM3vKnNBsTl2RG62ME4gDGH3Jcz3M4J+OzLymDI48lajNle1+ja8oCa+knUIg4cbnnl4TTJSpZXDyxQgAAB2keEwsIJvPWitD6JByNKHNDdLqOifgpA6EIUA92XKKOnqhoqiyDF79vapP9Xrb2e97tqmfxF2PcVEgJSrcvQsdHQPk9IrM1NHvOqfdTSzuTPcU44VjLOvIxLppXAOS/BJHlIfGrEmaZAAAASEGeY2pTwj8N4pCRSEHmm9F2tFkQvqod7Z5ZELowtdhJXeAKu+ouDW6AA6bzynltTROXxJE53JSnR9Qt3qxb0zP7zwPYFODRvQAAAC8BnoJ0R/8S7bvC1+OgiOfGIL11fAIVX2sYABUo8FoFtxBt47Y1yTFyMFDFAFC7gQAAAD0BnoRqR/8TAavNoKWw/DbRziZbiNA55TMh59fSQAtRm9pdvngAsH2kLnN9t0W1fvDElyU+EhX6fZPf9qmBAAAAu0GahkmoQWiZTAhf//6MxqZfw9kdOGPSAC1cEd65x+wvNg2UIimT3CSCfCODPvmlGx4NN43SOdhItHbPhiYsxZWa3Qfa1OFFFmefIc6i0lJP0WIAABJmWPZUC6847LK1S6pIkTOFCZkzEGSeb3gZhVRQTUXM+qP15/yegvEOEPvMe0S0h6MTdi77talk8fJ2KR2Hw7/v5lVomo9Be9/g0SjtBKWSiaFFzw3/HQIpmzb4fi1xkDgtUh8AfMEAAAEpQZqpSeEKUmUwIZ/+nhx5awumUBEpISQAgYHseFt//wWd2mS09l4eVfC+71C1Njmhn28bZxxnuAzSEzDd+nYWor9V2V8FBwOqBH7OUHPbYL2Fj/djvopK3oTNEIaielZCoMBiPMaMbIvT256evtUx17Y9gxu8/cW0jtD8IFaTu98/lnbQM6z6Yv+R9urRt24UxN0Ute1xtmCy/PBbRUossPZCGULq7xPhMiTBRTHQVp3rN+nLc/VRO5MZ/4Pr+oYkmhBC5mL8qDbb2zpfLPQvvn/SbQtytgh/fb/5OgW+8yxu9fZPmx6/rRebgX8HZ6kouc5BczXUXXOi7gkc2TY7QcBN2WPuI58zvYajuDJwsTdEXSiIdyxJL+trvgLhoPuVUDopaJHB7zOnAAAAZEGex0U0TCP/DJ52dpw5kZg5RWvY0HvD3akkACcasPKmkIjs1evaiPbReEzKHXLzn2TLbLHL4V6sQ6gmZbU6gv+aS1tTjxAFPAv9yzWQIU/o4ADooqSMdMvuiFmUAYyF96x1QYEAAABrAZ7oakf/EXr3U6NHqI4DcrmHABYmnjzup65x/QXQ/hi2KzSod2CEIO9J8IFxTQfTJj5rHO0siwG87/mQZpJRFyX3Uoaol8Cg1PSJr16JJdMO/UM9twHCRAu0MuQiQAXRg5s0/tAvYgLyJbQAAAFWQZrtSahBaJlMCGf//p4dXPd3DmhV9EwML/wTOkcF20uFoM4H2rt4qiKDZPUXc38JpkFR2/faadj3pSPMV1yN2DV06rCeBzRnx+GAAHrOc0cnXn/0Ay7jjYGHsCKjkxO2z6/kLpwomNZffyHxgPkLBtZJc1NvHvSct4PcD7C/6dU3/AmT7K5w9a66KAuvyBCheJvukYy/cfTHI3bVwO5JMYj64xGmwfh9x7/sL3sF/XrFDbjuca5UlJOjIOoDy/yRt93VLLzbOKdViptEfbq8J+u/OpabCANCfyGqSMkR7ANv1b/lLpK3xgz9ot25h4BzoaWARvu/2Awgy4YLerfc3MkX1SZL8ebVrroGMst2GGxJSpfpMe3ci+gPvWdB8C2MMJTGdcMHDEs/mpjo23iJJmzcg/ovTzBuD7uiFpdn2Te0OsyWW2htzMNRNrzmZgCr68JkmxlRAAAAr0GfC0URLCP/DJVDs+vFlaFy2qnznMCgzqkqjJKAC0PHKzcPR4oPDIn3hw12liBmcKla3qNuld4oXQctSH57Wy03Muosq209CjAtJnLdEk/p+Nxw1JyIPlaLSLt3jgyLlTQfcY+CeDHOlyYFENko6Lw0ohRx1T7zvsvdwSV+u3LNjN68U6sCSBaPS7XM3XHGr6mU1iORhAgEOIAwC/oYmKJp1/gqAdGhDqLxc6QA6YAAAAB8AZ8qdEf/EX0qCYHSNY+J1Dejc54WrqOgAW7/Mv1/ZDsp2fS72ZfSLdATQ2VqVrpf4hT7652lNX1mIkrBexeyPOwPd+yiUzPhEnXrOt5hMLgNdba0EtOak7uTRjnh9fyBAi5wvjrsVkrIoWXPrmPgAGQMF2AEnThaxLvScAAAAIEBnyxqR/8QFfiF/lgmjcRA9ivDWcAFy4Ku4eb/3Ui4YKm3sdMeGFR3XUlep0bEx9UH/4Xs/H0vRhzMFV03qG3UplzVIlJyStT7cxbGv++S+HhE4k+3mcbkEsgQ20cHwsjKar5BBb7FUFCaqwONoejgAFhams6QOTCXVDY/r7xIBE0AAAFbQZsxSahBbJlMCGf//p4WjoxWX1O/scHvQf2wKYPcgAqOiyR+4nLPGRgoEA6/P5Y6UpBTA3fT1lryH6NpM8ZYK00zyJKuBUh6+olCeJb1tMzrVg0t/vsZrPGEDA/Ff/zSxAxMR3YuqC6yWGsIWJ0PE45of3iUZZHoIJrnZj1f2+auRab5JkBm4Cgsy5FkgRR4AnY/CDGt67lsKLNwt2ts5auXzejYXfCk8eqrZXzRodXvC0/o6YWZEfnVF+KeEzCt5GtsuDSAcKnoseaL18GbDFUcfA88UQTqFcY+alRe9uqBA6+doNNaT/WYOb3Yy/z7EvLFxre3/96GjA4ZzTZQpWDULIck143bCfaQtfiAjUBEOjJAp/As8mswT7qOzB7svGLRv+uplDnDFnDRWglE67JulPnFYiLIMNS91e+810fN+YJx1XJTQ+YMc0g2B4pB6cs9jPRiMtygx3UAAACuQZ9PRRUsI/8Ki0lPSgETPkUAC6gT8quxttxXB8gfz4hTmnDQLqwyOP9H7uAL82zK5z+d6trxpBkCyyz+gac7H1iwRf2EIfR9PXVoSXRyirG9VX1ad5YD5hCruYuh+NnnkyMTHtXNjeSPIHc3t6VCH6NrNYsZnja0qBO+tadi7cLqSzKUUHaYZBfJon9PuHmXheeXLznioPugZ8vAAoH49Ga8HX4Ax9VS98rvMA4JAAAAmgGfbnRH/xAj8gS+oH4hffRWwwADiw0/7ksfPDlAMgvXF0yy8pDTpe/tBA2S3+o53vpKX/wqMtzmQu/n2LPNx0ECX55AgGzILmO5MLc+iN8TM17ufdSiaK4pQwclinn4IWuiwjK36twO0ixwW76c8QyaH+mZSEMNnMbOt7TJ+o5YmITHKEQVRrLTwP4GvgAl3aIewArjdny1m0IAAACVAZ9wakf/EAjsbsIADj0eguRt3Xa96J+X/hrVYNXoIbnF3aEwKttpzyRE8LtEhlklcVs74bj4Ktmm4gPwpR17XV+eZeG3MLQkyjZHIiyy1TfWhxsf+urE0EwXhBIQccZ0o/Mb+9256m8saA9DetxiQFOvK/bn18Ziay4zCAu2g26EPMQfyugAkC8Uf0ZpR0/xI9pUBxwAAAFGQZt1SahBbJlMCF///oywCL97LlqUFUcBPnrsLoAW8cztyM9Dl98yQD7QgcKrt/ZnIvuLeUv7nuMe3xQf2ZbpMtUidBjhrO0cEoOP22JnMSXs7TYQX3GLIcSoRAAuFIAi7KPZ2Crr5Vy49jbd7JKCPLa24uc18HUfe6JgMSucEFeCxnZmXk/ZFC4t0e3Scu/YO91uh6+w3W6ocWgsTjU+C9Kul/eC06RgrozwWQUJ2QjzlsHJHjti5bmVrmp46qCGqynEh2CiUhm63j4xnp1+kMNHZvHl39zFxVg9x0jL2WMxWLaU/vXBW+8GGO7zj/fYdM3/5C8aJBVekkOHwoYXzsnpZP2FYs1D2QT6+V9O8q28qGnMMrX3Rq037XnkgDAGm/XveL2M52wCXJfVOqVSQaPPqonu1vom3yilf4s00wvJJtd7GVEAAAC/QZ+TRRUsI/8CSv6u/KoLDkYO3zDv50AJISSqVwmPPsIIfr+MpvMqu83JCWC7tX2cJ9oC0co/D2izwlty1FjtLMptwTHl1YjYHBtV3CNc5Fv5KqF1+KU7sL4AHNRzpiCozhmtIvGqhBjzHnjoRGD0WJ92IqK7eVTpjWKYp6TL3kf9+oxf8x4VQJuSNZo4/VxEEJFV8/LQuB7oxutVQlfInF+bwddxCb0JBs95Sw5XCbWk/+AOX15hiaUXPgJlxUwAAACTAZ+ydEf/A7UNIgB9jqz9OWtkA80c9B94/05zCz9tPzca5AQedrXN+rFUVAU2yYY1/ob2TNpkkYSwHWGcti5qdprDtYB2knTqvvf53igKsA8b8DDHCKCqUy1pKnVY+vud/4ACVYfIHNApBsEwRc3jPl+k9eeHiSQ97jGm/JKSintaCjD51jAASbZ14NJFV3mKkw5YAAAAjwGftGpH/wFn43YHgBD20ZgvWRX6gs5z6z9DjK+MizZn2GlLOaiRxcNWMHnkQKguIVuga+mpPmIYR/UK5A01uhJLf9pl7uqVnjtN/vdqSFGpdpmhY16diJXZGnIceMxx9H9btsAROmHvTBTElBdJYKtatxPS5m7lU8fxpGdwFtJuSbwD4OD7amTRsAAIcA5ZAAABFEGbuUmoQWyZTAhf//6MsALJ9l5OUnl2n5ecKgGNXzeiI1NACG7iuZdRe5WUOigm6iyzPZ6U7JOJgmbkHijPHieieRLeWf1e75HjE5UuKWQdqd5BC3k/Tom1kcZU4PyPhbxfSC+QZtb/cbUcPu+w7cM7JhLh2nJQHTnC4boL9M8U4Till9L5Ux+llvEOwLOTEVMcBk/CELYZKpi44eGtEWxt3U8LvVG4qzEmrjO1TYkKtNANq85auIi6RMisYodWLI6Z77sX9wDvAs7cetA/cuXl5rmTwlZXjGaj/XqLpm2xoZds0WXu5qoiDmO8ceTtaKk3Ng10MEdtkdQ7qVuDx3M5ncyhxfYxk/ulqPky0EYxgDE44AAAANBBn9dFFSwj/wDif0ZLYQrYeoxeFe//B6ACdgLjQvutAFdZvjdjLOKW6eL9csLJJLTvsKpRGed/ls7Vghj6p2l3FFHx1CgJc7mH9k5hX1PR4ydCOer41FIzBkoLfP9tvD0pgOuZzFNZS/1qmbjNOX9Bg10ckT087fWXqNdXOXDmbZ/21Ky6nR+Ny/sQ3v/eamXgtj3xGIjv5rmckRzj0GYc1YYDz60gThPbAX1ovGHUPhWk9qp114b1UjXoOu5X9OrGgBA5oXiPde73NnuL4AI/AAAAnwGf9nRH/wFrFJYuF6XFWAAmff2dCD0MdCb6fPZknjFkXnVa770O+AghjzKyniaBZIBpl9b5oGVDEpNVWSJ20FHk/S+9doKgOpwHGc/i8CX+8GX8oHLSIzDkSgz3PzbQZOJ49pOg3MtWmB7838YciN92QUSMsg4P1fqWOCpF4oazqyDv91NJYAyNBfG/fB0n7lqhQqB0Y6xrEwOpXtttCQAAALEBn/hqR/8BNZIJxPLF557ygcABxu0hwNYefm8QHZ61HfTlQGXgq+9WgtgIozF2WoM5dVm8njv6uCK7veQZHzROpJwEtfl+XTuhiDhk8eMD+edl4MWJWndNJBze+O90+nAmzqlt9I9MR+TPLn49FdEcaf7GyWVp1MJdS5fn2NA3t4J/MRxZdowkx3AtMchyfbyLUAPqRRq3MhDntJDMSfBmcX6jVQwkC47G5W2sGbM9mhAAAAEfQZv9SahBbJlMCF///oywAQH4nWHhnrIKRZyoR+iZa+qM0c5kpZ4NYAJtDW3CJ6QOcmTmCPP/zf4ro/kORa3jW+45OGUraHKUkqb42ZL+73PYY8qNn+OhmUEXfs9ECl6nXQWu6sO1V0CIPM6Zx4Jlof/9t5/NNL5PRlt8LgDaKeXJxfhFD2GsCVZLqkc2q8+Xo0hcTDfcHQp3+6BrXG01Y73/ci0J6b/VplMa0iGpT9hBO6U/z+W7GgWn86hGwUphUHkcdKABzg1K69ZBLXnJlyZp+6Q4bHhi6/AVU1ffGCc0Ofx6GATm6WZksX2VO6ZTz0iFWnMO0LsBUmYLKvHjrxxzC0o62Yy/qHGY4caKSs+fyAy1QTb39vHIwpKW44EAAADgQZ4bRRUsI/8AVBYo2mc6SgJG/EzPUmmb5F6Ub3BACXwu4A0a5jzndOrcNC4XR27uUcs9bjdckidbGpixl2kAb3HohGbhxR0X1HLvUddE3rEqoD9wxzhuXrqarQiFywzTkC22/zImjBVfp6NRx6fq/i4wQ+smZnb2MTwRKEztrFI/YhEGzmi6d34DyvSwQR+50fmRWrh3SGfj2jPf77cukbMFR9hXVS63Nn4yQkZJTRrZIrJJRSliLA/azwq+JejiZ8ihThl/9fnsmtUle6Fv/gv5xiC/ZqysmPLPAoNANSAAAACFAZ46dEf/AIKx3ppYiGvqoAdABUA4ZFNF+RKGejFau5FrSVfn0iNsdzbmfzLNzGxMI4RSv1sHJW7o/ZDTtnfdCUy1gAI/tBRD+mfMVpA8+kAopsSnvx6AYdW3LwFH6oUZvsLniytJJC85/yysz7/JlilmjgvxZF/6IggY0zYFDb0n91ocsQAAAKMBnjxqR/8Ac/N+uNjtBEnYsrjTH7RMIvIBH1zxh2SbJYyVfm2QH08MJc/i5IASJIQoJdeihrRbI6ljRZoUQdxTfTHAvtzrz2YQ4I2TKsqTjSHQk1gShf6NK4hs9CiKYfXOMQnm9L5rNGutTEWTCpj4y9STE/ot/vjeLTORLMZa4kZgELv0PkiyYeL7dPhU0sNYcTSef5ujC6Gk0EIKc54py6ThAAABA0GaP0moQWyZTBRML//+jLAAWbmXLw5FmnVbdYCtI8DCbJPpevfEleX8L4H5jc4tHQ+UDuF00ZdE7kYW56lrRXLCLczmxv0w+Jy9I68FUsTYYsd1V6/v3CO2IxH0aiYP226Cgp6oly2sX+xsasjJzskpuk8p6yzVwhUrYS1fYrso2wknT8WYkvKBWkMtnj6stzI6+STPr2LZcdPrD+nDBLCUeB6sfUci5Lky7A/qTDP0K/x5jjsDlQfPA7XYBxHEn1OdC7o37vdcX91eWkSCgujDvapy4JOXqMM2UwyLwFtB5lk9rFt7PHwgWsgqLUWzsjMSxDwk3KeCmY3PlHsU2UvRVMAAAACbAZ5eakf/AC1pb/afAvmSVVEdjNMi2zzk/yJ6qjzGQfHZrCMxQQy47kUIEMwALdJZXKTn6aLoYIb0IjxstvXg1iKXsQTm8LNY8IFggZpZejavqySbYvHp9uEl2E5tYj2CGpV5i/c+9twhJzehUlKy2YWWTWDtLiayV86MhGHeHshsUqrc7RRf5EUY4/673EDnTzS/d3CbgYMoR3QAAAEGQZpASeEKUmUwIZ/+nhAAVHmVtlmY2/Rn5GsxydsvSLCw+66SzSQAE353gBz8xLrVUwwr8IJ5cvGlC4FxEJaPd8QeBm2Q25tG2brKaNIKXVN4TXmvk6H9HewNky/n1DYw2R2o/PO9b64bgzkNmVftny+L/mfeJDh+b1PTue/84bzd1kHxVCNbVxiK6LYQpRT7/BNG2etn7zpCkhdL3ox0BTPfky7G3qIbtM6PaN/ngVHymvRFEeQf5/iQT5IR3y4Z6IB0JmDnVEkV2wNlIkG1TFOBS3D3qwTK8WRq/pScqE0bsIIjl24QefS8+q1s55v1QLOY85ma00NPVFnDHMaDWBvxtJ9+UQAAASxBmmRJ4Q6JlMCGf/6eEAAg3TcsdICGwoVmDjDLuEbrdqyrPvH+lypZ+nh/vpyxqLnHgsTF322Es/kQy3Oy1aup9u258TCVTEc3X/PWzEVTjaacZngkmOG9nPrsH7pxCYXa+iyHvMFCKlXDrEr4BJm5k2KnVfydypBiIQxmD/MgR9xCRWGNZLjcXjhzVcLFm4vURDd8GbLkJDK/NIAsFsUWQwlGtyglGKn7ys4imXQF52+brwK5Fo7tX0JpC1vuO5YrDNOdsT6gvEzsfnzRLf/5K4jKt4U6qHQ1iGQJetiQOM8m6n7T9cuR2SN8HDjZJil3gk5xozOaCVcMkZ5ZJwlK8c8mT9wCC/nvchidbh289lRGSef25M8nCP4lFuls2hfw+eD5nLLkXDT78oAAAACQQZ6CRRE8I/8ACskBJveQLdESJ4u1G0CAk2gTdUCGdGNwC2KFseYlHfW2Vb/ctDUbALT5gyzFIAm5JZdgOQd2XmlT593mLu6NzbnLnIYSwwIuJaN2eU7EDnGQgKUp6ppwhL2dw8/9JzvdWDqAaCmUKLALy1309wc+udeRjV9BKzfx9N7yyhqhBxykk0VGjhUxAAAAmgGeoXRH/wAQ1PF2Iis/Koud/UvwvW2LFU54Lv00oHQwdDJXHmWdwAAJQ9amzk4xbP8tAXjjKaKdEqR8Vre9z7CHZk1B8Vw16kI6W53Nh/ZLDIpTEEzKUuOfwQgWp+ROFL6pht/8VkypMr9Z//YwRswNC8QWCVGPvBOx7+jv5dlXCi090JLjA8wkIsjBpKqfpRBBGi1ZKpTNDlgAAACcAZ6jakf/ABDYycjZwMTxf95lASSdZ94HS9I2EewACIutvpkYzMAf7FqQX+HWnnoQgprb6K5JJuheeZQBN6GAbVnKYBbxWhfcpGQpfErcxIXOksNVvcjXmE99SIZH543aSh7zQeWwjtZhJvcEw0BXpkVX6svrKGKfhdwH6U4njXKfl+mvb/N8lJmbtOtGGoOOZCEplL+dTfo1Hb0nAAABJEGaqEmoQWiZTAhn//6eEAAfL2PB6+5PRFG0S+2xVSsEkTpeZcPAOKOTY6uq8ZG0W0/dHPZ1ubWr0DXwNP6qtwf1ZJNkwnMxZceSgEsBevpBAMV8Gm+L3jqkHdaXBaqVLHYlt6B7lL1SspCicmidRuJqswprP4jT76tTAaPa0o7b+ZUxnLwqFt5i3JYxRzRXzbk5A+Tbf1qSkrDScrBAneRi4b28vsR/dSGDqM+A1K+P4zHo+a40O2iHbA+d8YM9jo76AmWqFvufWP+pnl5ABw0PsY04+LQVbw2qYXoSqWSUDTy3UQQccvluMGY6Nqy8AujmX5tCLp6MmX8rcGWefcoHZDXGDxIoZA1Rczpy+DqF+XaU61Kp/mm9UvA/BvFv9n8LxmEAAADHQZ7GRREsI/8ACjqv0bVz338AOWImxB1QdWLT7wApVTXyad1wFN3c+XkUOoibPB8XnI+hfehTT4UvRPgX9tlBu5h+uSLRVMm7pB1C1BDQHTk/4hRNw7lpJAlZJF7z7KlcVkXExHvUiDUsZra6HTToVcWqMpvqX14S5egCtwgSTvWsoUsWlwfCVW32m8hEAjtvpfJujNVskSypKg6LX7XONXfVqm+GYBIASuUv28o6QljgUq4z3bZ0YFYNt+QYaj0jPD0tCKACTwAAAJcBnuV0R/8AD9xT5Qb5oaaJLLQezBDSdfwCV1yAA46X1qFSoN2O11+WVneCca+YQ9LKAtAa6raA+WsElmqJJjRp1KP2zFSjuWT3Z8xKFDfBNrBiIJsurX8tdCoEeZSo3AgLy6QFq6OUrbOGuqy5fhQRQ0af4N5Xu1BeVDC2IdKu4W+POnL1vbXo2/MnpaStlkkoXS19PnMrAAAAtgGe52pH/wAGb9h+BT2mMsRnW8jeUex+vLSoNSSXdcwAF1K0txsmFFECLcr13OEqK8acxZkst9Ho9dBurRfRoaLdZtP6ovI/KjV2Tle53AsRDl0xBh6UJFbe6lwGeCet13aL0V3h1/32h1qjkJvxu41TRK1hzcmzP8EMQPztzv4SHQxUA/ws/oDc/JgQjmQ+SorBWKC+f7dR2xEVOOlsSBxIyj2DvjGLF5x8Sp+ZsukNkyVrMS2gAAABCEGa7EmoQWyZTAhn//6eEAAMTwnR6Jflmulrme5F37P1QefQAtYRM7xfsy0/sK3Aqp7X2L6AdcSSRQ26uCuyY2etfWn9sqntT0uEySMOdQyGupay25DrXZTGrnOd0QFkblaP1uhqtHwac17qGCjzxO3pVL1ue73CPmJuQGF3KNXDuhMQJVjK3oCwCHHdm3gchrTdBu5dJmio910vq4uVb+BXH6SLxFJDxOAEgnYQD2wPXMHsOG0TpUea2lV3ZdgvPqWHEBSzQUz/C4kqmV6tEjb1A4iM7DFCM7o8rawr/OIWYE6fRvbjtgqt3ghG2/FPXUBlp90AJP20rXaHsQzhEe5lD1eHk+2q9gAAALhBnwpFFSwj/wAD4fyBoVNZR62KvyCa7CUxzkubzgk8CsaG51hnr2fDaE2U8FPzxnfABdKacK6BtMcPtVoqE39Pis+ihyDalVZz58ioLZmP1WV6h/8H8Ep053Gb7f/Aruvco1a8mfFYbET7S+hVvjbl57hXMtSfeI4vISkSFangpJzz7sepjstIreKOesd/EXRZYfsffghcKYYp/uj8FigWv9yprdLYkPF6rW3UIgQToo1WJIO2AGzBAAAAkwGfKXRH/wAGRwQ8FTRAAcZNmy2BjyxWKORYu+nY+nnRYjGWscwqS3iUUOHZjKj2MHbUZXyzGf8qves6hPTjWaDRkLJPqP7R9J8sKtKcGqkXBTkYw2BGSoPRBaQvbtktBQxx/llugUmqE2zIF+wXDXcYd3JH+QmQcsgPBwufEZ9CmCMqihT3/nSKCc4hsSXLVrQ5YAAAAKMBnytqR/8ABh/bTZJwBZy6SvtoHPKXUWmPdDe2AHRYJLgySxHIvAoNnxL1EzcxZLj8pcwwGnE4sKEbyNFvK2Y5EulWDIDnrOzXgzl2Da+NW3dMaV/rX4xhqJb95DDujlgHrcG++j3PJRU00kYnF9BhtPqAYafD+fHT4KKhoEZyOSDkJI0RpH8V9Z1Z/a1rGWE6J1aVU6DdEr9RT4s0AlQnDDlgAAABPUGbMEmoQWyZTAhn//6eEAAEm6bzrOqrHvoBW6cKn0LWJsrv6Ck+03pbqdpII1VNoBg8ptEWc7jqTeqlqoFvnMFVhIsCEsjR1xJ/zK7pWAn/uYm4YVKtQjCKfK5eVZ4p2S5rt800Q5/BHLHeUmYVzCbkJ4SAGr7YzPHIM2fSy+2wb7Fx9D51MAEVayDgiGc/jlfIKuovttnsVtl7E7in6whqVAbVrFMzJBuSgB0Z6e+Kg8sJxOHkyKqRV+fFzkzWkZ3ebRvAYq9VqqQoSFio1nY6uWjEiertZvJn+FswHu30JvAcjApaTFIZS6sND//D28pXRqaF0AbPKreTssOolealtNpxG/iFE1A0xtEul3CseupWtVAuubqCQBdvzmxV9y8Q+oiqbP9n8s6FLjiOcKzvrh8I7id5LMTTaPdxAAAAmkGfTkUVLCP/AAF+iidPt5kYEAaZUgiWmpzmNtG2tlJvtWRUZKwANtGmszH/osKSFebYBPtgGeHnhz76QdEW9baAOp/n0ztiB1F5maWzXfM+c43tT72vAPLAwbTR9xBUAhP6JxwM7yqm4P80tANpqpNe4NEcvIiP4q7AkNgkEKk7AjklKNtJ1dpzfT8x1VKsjbiTnIZEaeoWGVEAAAB+AZ9tdEf/AAJaNd4WvxMA3PnMH0J3bmx58WgbcCxONA4b1JekrFnQATV0BceoSdkJ8T+34TwuPlZtsNPQWuN6Tqp1nz4SWa44aOkLmZowU3FpDCqk4CemjffFo9Ue6YJworSElffD4fRJ05f3/IkSnf+Zjgkc9Rf8vQNuRtCBAAAAswGfb2pH/wACWx52xn8yNhYgBT5PTyUDQig6tgQmjYV6O6V2SNvuWtLqUjQSpp46V6fSUIEQrWyYON8DhBo1ZMeNMezH4YbVVwTdgu3eG4UdPC8Rz4nCK95Mi9/b+WdjRVFvKoEJw7c4XslR8InvMdzmQFx9OyU80aVQ4FB66L/tkSRSO428L5/zST+gU5iEXksuoIQ0exj4TUqMew1u4KsQ0RW3mkhA20LbGQo+TMHGEeVAAAABOEGbdEmoQWyZTAhn//6eEAAEe6b0eiZ4sRAK6o0AVvQF8bNPwwTr5tiKxFX7WXb6btlINZAuhwrZCi2CA/2fXCv4s7lmRGC7h//sSSPFc2q00AqhwcmBVBlE32Qu9g2FzCje+efhrZ05kPK3k5NIdTSGM4f6NshZ3Xvn4ndOykdK1COES3p0mUkoDaHwpgJUope2Epcs3fLlQA9wFhe6z74UbiewNgHs5CaWnmNuVvW5d/WOWfgewJRl+szfc39ZX9IPzlvb7XFDUMs81ccQ1XLPLjX9PnOVIYOydB2eeIaUMUM6A1gfg5/CiLadJOXo7un+/CVL+/GAlQdYIquGQqE7rM42ofM7vKuDbQomUW6+oaJQ2N/ILT5JTC/2htf4GCV7KdFBMQtxlXnuRTRmOWZ897J5xT05uAAAAL9Bn5JFFSwj/wABdFK0eBOuWCEMo0GDEZ/6Z2leSAyPw4/No4TLVFzk/O3N1kMYQ6N+hljRqvZLNAMCYr4QLQvaQVLWhFmoGNCrN0YCcecQGHYuLVw3XALvcMRSThK3fpJtJmWvUxOsaMI/y6CrPc65PzcaQPUP+KtV8XeSJxC4icfS+vJMBMNf5cSv/jBpqSy6wyehNss/zE7pyIYhUPwrzk53qYEZCqsKMaMgVHb+yI2eXrnsYYnSLUWO1aADGwAAAKsBn7F0R/8AAkrB++MhACfxmfNTgpCnpNrNtuxDhddS0DkCHt+loYoN48mFcUiNZc6WH2rb8pbfJ1bciNai57ppC3Rp3JkkqwrYEpBo9QLPHxaMXAJ7JOVzOSRPnDrzUSaIz91DCVMShHJX1EzpRjZYqf6QyjL9mLCr3VOZ00d4HYVwjyHVsm+9lgKLzwmIHiRufWqYthMPGrh4NdKjhHS3IcoDm72PUXIyUkAAAACOAZ+zakf/AADitWsqdABJXpTGchJIW7OPP/44kntMuOw0qu84AWlNMOTTPZGHYy604Oz/fZCLPs0ANFJgTlAyA+04Kl2ZKhnIyXltHVbo0knV5BQg+0dUcrmMN9s13YHZwM10Z+ygFFrr/ERoKm7ezscafqva5ift66fN5c+J+4v3F95QMpGUQ+fY/5tDlgAAASVBm7hJqEFsmUwIZ//+nhAAAbv2O53cD71AyNSEsyI9qFK0R6XoxK85QP9LBSWLgGrAmUZDcdzbIWd9CgDi8r1hd2M+NaCID6qBvdyFa70n6J29IGK4VUgB87SWuqqfEnG3HFV4DrzZXCLoT9BnRR+oaVJFo7kKPccHL0scSaX8sOkwYe/30Y/fgN3Gyc55oyd4TWPZbBsJvHzzQB1bqBqv9U+NRuLmf4VCHH9j4rBFCRHY/iW77v0pkrXRKBtZQY15qqqgSUn3aTBEmVfXG5rEvd1quGCUTpfGSBccT7Mup7YYrv+5kBmuMxbjoAJXNrShN//U0+1xRyEvi7cJ9jjdglukHnDVgFCvEWR1u8RPhOmXS5jbMVa3tk1hZ6eKnYYwPgqVMQAAAJdBn9ZFFSwj/wAAjr+XmF1XHW29gWzCxNxgCPYgW+Q6RCuUD5ZpSaaITU4QKEy03hcYRDCa8d1t3twtaRoRHG1A6MdpJ4POu7WE8a5UXbQmhn6XLcDttt2wM0Q4utykT3HUn72/P/WBlRop64nh2Lbsi+v1tr791xLl6xIECSFM5sy2oFXaA0v9q8ILZjRqNcry449eHiDgAAAArgGf9XRH/wAA4pIuUBwn/SO/MMP6njghTSABvdsF/vUJQbxqVdzwU0RuPeCxg8tD29idpnRafCbcVUBplEXpd/oLfTbJwcL0FP1hjSyC5pV9FFVnJ4+2nnJndedoNo44DkFSwqL0nJJ54XdRtUpyoiIjqKyCuIiSGLUBUswxgKHi3leMLFZlsy7QKgwNaHZ2plSze2dlGJhpAjdr9iCMZpdlzwwITwD1G5a2IsnykwAAALABn/dqR/8AAOJlA0qSXF2EU6ABYc0ipHfrB+hbjM3EFHvlRY7QRNEM2cFiEVQAQaZpkodK50b3Vq7Z5289Q2WZu5rUr2dAWuHMu4/RN+H9ZhiqGyR0FOvDL7KholcSJsIrW2Ykq9koQIluG8a5ZUMYVTdf6scZtl3VCoJUXqmVCf6KUNnUbqrD4x6qmLh8tWOfrWD1RxiE7xcnSokeXD3dqdUF/SaKtb3Hux+I+z3pOQAAAT1Bm/xJqEFsmUwIZ//+nhAAAafhOknluzmWm5lpQVxcALXHIj0vYJ8qqNJ1StJCp+pllFVZPC/cPWgV4+2mPZy4AZznKVWL4nA2jn4z3nykYn1TjPJh/YhDcr4ilGkpDp7UE0ccJxYTCYvvr++hySR5bwbrVxV0wq90g/9TGqcFV4LfKlHdOBg6rmYZsbWDC5bPsF3z6s/p7DjXDnyodNAUEvo6f0D0wCSr4Zl7E/oDLOLf3HhKy7vSg2AVmiYxFQPN4EEi+b1EAyXYvQvPAugO7z94JM5+87qQt9DRNDHV4cT5lrBMgFvrzy/vslYOitLpzrcfMgzDp7i/F3+HJrcBjKNDjVkEM4JQGN62BQUWlALu1dkSI7gjNczPP4pe6DKQvge3H2bbNaLyZUAjMd9ncE1OiDjdQksTU16c3AAAALVBnhpFFSwj/wAAhU/7FzPHMGOATXVsrYEFyB62cNuU4YilH8G29xLJk/e4wMdl2iF+e1WvDB47ZvpH++zZdCRIXvi/lAnRcJWPNPyuTWWay6KmxJgTJ2IMVqKdJzHNy53Aa//dSHI/vYi3R7HwK+yN4JldLHRnk8W0xj/+Ok/ObMhvtani6XT1sZG1z3Phb2jPooyLyUuAoOq3migyNsZYYlspK6hR+mLIrTZ9tbYo73dGUA1JAAAAmgGeOXRH/wAA18Kkt74TBbcAOUDPssXQ0Ob4JhU5ymplvc1g88dyPfBw6HoibFFsng2vYBMX9+NLBxiNqCW3JxGrhXTLHQrnIVFKdCmKZ5sovLRt1lIDWbDC5v8sEJJfmp7d9s/JAA57MF703kQ04lcW+wgli/5OkU3setNJqnaelssG5lRowJH/lXiWBPzpKQ/niF96yCGXeZUAAACeAZ47akf/AADV6555FVANvfs0Mtv5aC0/EwWUJk3VVTvpIobkYqLbzW5wSllMqndVv/fGakg2KZPgVva93olQorlSKXUIgCiuvcXPwQr4+k0vts47torlWE0K4BFYlBuFjp//5PfLm8YmpYe0Fxr/ICcrOR5ERR0c5peGzmgAUqECN4Jxwe3IGYM5Kd+T75qA6zXIkHgRe0w2HYfQ5YEAAAEvQZogSahBbJlMCGf//p4QAACo8y51kK0d9RGRBRugAjtdIA+ahrH+fiojzXnNorF72x4AmDUdCscRVgEVB2LiaZ50tdH7mq+vdeIrl2lAD+aeuEAhnHMdftBNQOHpzHQAL2v2F19v1uET48xtBWsoKFHSrIxFnfZ6lr9iLOm9DlyAaC/dp9n72bBopd77EOzRWenQy5dzYt/e/GSSSEwSoAs3CHR9+dBLVc8cDck3Fy5fA3SqnEfAL5KrAFH1GcYUhXFtmDucfoJg6b8eQPftdSVFhXYFkd4M7NzX+/weQxgrxLqxZfZXhTm5hsMCQpCIxwsjDNzexFyPv402fq9y5eD2y5nNstO4cf1Ux5IWCV/aJew9b89EyGl5nK4M8iSgEBw7mS0Eh3Axb55kFjDxAAAAukGeXkUVLCP/AAA2BM4K1BNUH4k8gWJ/4//4w9Eofr/6AgBnqnnC/3tBOSahHpszuLz1W+87vdgseL9vHhE303o+jPYdV7+oo3mnvND/5inUq5XN66EiGeZTk4z4OYjBieleJ6Dcnj7OVOtz/Ru5qiOsULgsY8RUWsvABIJX5SooAlueUkspahHZG40g5PW1AOgGiCRjp4MMW50Nv8HgbZq9l0xfY5oNUYwBeUGbTz94ZHIKk7XrbHlhlQAAAKYBnn10R/8AAFZE751+UGtydbXK5oAVpENLqONFogk5tsFLotQ6SaPZ4su+14wQUQZFFB3e2wma/aOLuSlnt4v3xW0oZC1poKQUh/dyeyuWh2cdeThnR317Yh7m8v8oECD9LffoSJt84zs6bg9FkD5FswcjO81LEaVsy7OdLsoAk+WFHmKJurE5onUYdi1cUPN4NPorJhRkue0UgcJsotZsk6DMnMqAAAAAnwGef2pH/wAAVDqqBxCXoqsXa2DftIFx+AFuCkMyFHuL5S/LF7D/Oy7KCRhXXL02ZRh0MCEx1eVmjt8zXf79q/XSAtD+X/EHIxu6S14lh4qtjOuJC/IuQSiysTfDYgxu4BzgczWf8Z3ykGI+WFnaNxcMDvghUEgcgoEKpdoKFH+NxRchX8Pm3eld7CD4qVz/2ol+sRLYICpH13a7COA5YQAAATxBmmRJqEFsmUwIZ//+nhAAAKRzLK7yiiDo0v4xsVqdzpA0RgAuoUnDXxMMED4VNilZfjqbm93uVjYRzvgxke/PzVGExLlGc1l4yCFuX2AYqEJlFBiBD2FR9XwWmbabrDVEK/bCOWBZD1eh+IrPqN+qkVPsnZd98mlV0C4hod8QFvOxTbG3eCQEcKWIhQBtyQLL0yCHFnuHQ5aeZl95TPKCaCyhpWMtUuQ3o9PBzsSXCCLmzOvdnbhOrQMzgs6CxHp81aIkLr81gXZF527fGLvmTSc6vYJu47HOvnD8kjczcXuRG3BRsf4RwVMh/ZUTyML1LT9Sg8wAQN/s8tDfY1VkL+WTAEv4KkuAQObrB5/fHDU4OKlPtUv3okk5cZT4eJequXPp629fle4Rlz/1NtrWucLMtsaxb9MICcaSAAAAu0GegkUVLCP/AAA0xJ03cMCiA+0Q8hWptCD0lE6bvCtsADbSscyvXtQKaTFv/z1kyTCROxBRbHgtdiosMuI8vOCS6ZhCM8XaM+FioUzCkcZwlrrXN1DpGRcnapMhjxEPsePU2lmD445T+EcC2oxSvnw26/IQ79Dt2ekhR5Ox9S8wToc/Wg5zt58mUVhUyx3I/znYw4qayaOrUxUU5euDsesRbvWXCWCgHjEXkVZbMes/qGx7NqJoPnlYCPkAAAB+AZ6hdEf/AABUBYBplIAeCvi46UYyAAbdmkZ+LqH9dqpyc/oclfl26cWPjCY50RDIJNYLWHo344OXiqv0rcJ+VnrpydKF7PnbcGXWLfCVBcMjQ80KoOiYhH/7rGvMXqT22RQBSXpdgLapBU43Du5HgykrMiS4J1WodYXuLpOAAAAAlAGeo2pH/wAAUZ4FKE5VeWhTe1gAhMWJmJEB8zOAAsEGFgxeyj/pzo0FLocJucsyP4MX/M17NmYoRIlgSWBfws69+IKsudjvgsNvCfBDPEWepXv4Pq1LwtTvwAdEQ/Sk/4ubgTYSu93BnnKQ3m02O45O07HKh9KlBcQkyURLJupUGBQ8YE3JzMpJ3FXP81qfleAob0EAAAEcQZqoSahBbJlMCGf//p4QAACf8y6Sc/Fsh91ACOPLpgmsDM3PD49XcKJEcskNm74tO0XZhs1jT276OZba1JE6QBPzyJ6VoMN60Sf9zyJP3amjja9878/TREA7AJi381fcz6ZW5x9xJ61f+BJU+n+gMkYaPdbbzxumemd77qX4i7k1Ty4gUfylDYSMgfCIVs0INgo1ofOhUsHu+j3U4gvZ3ZoPHGUzk/ouJBM5nn5WFfZeKYnrSVIBjLRiGeAqt1LcHDU3DgqUkBuV5WabTHGJebNjlLFY+6UYSv0uL4OUb4kIeq0/Qsds25ZrFDqlZ0UCuXMMrQ/3C9m8vxc2uJF+DZ2ffP5i7HkgsIvK1Va9dq57QmdWEVvqtT4YMncAAACDQZ7GRRUsI/8AABPxKU5aN7SDKTGKz7B0SFBit2oAV0KoETpqY3LRpyh5BcWKFqv6TXWHutU8uOtCyV2tMAABIlybvRVKKBH1FuCJcPUqRGR1Rjrp92IdpE0EA6YVWeRguX1W7kVUsH/FHtmlOivnn57e2YZG03XJrHoJSUVKm+mQGNEAAACxAZ7ldEf/AAAe/wtYV/n8qc3zaUreAa0fFTHX+XcAAuCyqmrPx0JZjE+dYHkBMUURgsLVhmh7eUYxVPiHZ2QfepoBZcgtp4/njXeYHpqTPjxOWs32KaWd4NzosvXPLM94CO76ON4bxwBINvHvJFOagrs0AACkXLhW7yM4fSdooqkevqdwrS2zZqedhKxNxBwspBPCyE6t+rFZX5a7Pod/3Jn+2/JKVAWYdIO5Oev+y5KTAAAAsAGe52pH/wAAHwnEAQWrENQOIVpm4ADoCScOi+/+FY0DOmY5NQtpCfoHQoHq8qagATLkERdoHxLVNq1rgEAzuZDjemSCsj7pZOz444qg1/5eoAHcb0r7lBJC9rvRYV+2Mp5VdFhs3rNOff+4STO8zA0kweNZ4aAqyfviVfECN1/GulRMxLsWTvD4ithzrrB8tRVYp9q96g64id3ZRlGqo5couD0NDIdRQXhVrpqtE5KSAAABH0Ga7EmoQWyZTAhn//6eEAAAPP+RxDe/BfXYAT48lu+gbPnwgGIngTxNWgmzebT5TUN7UL10o6kKqwLI9P0PBr+NFN2mt6DneieM880Mv6d4qwJNPL6KF7zh+2QFUn8ywIiw4K2RvJbBat3/SFKGjuLI3GK4be9NwS3EctHZn3Y0vH2uWaveYNCCAflvzFqUB8uieBhJDH8gaLMWY+KhqMsJoCI7B6/lZdveKHKZ/2wZZgQrZ4crIXR4fu34uYr7umnS37Cxv6FJmor6IxMU/E59uP2Zkp1laziRuTwoodf3ZEiPJl/6ukxLqJLcRwoeFFq1jSli3CJ9lN74UHk5El8qGdGk3QoAEQmpK9jiNSzdQPGcqFL6Hsza8htrtknYAAAA00GfCkUVLCP/AAAT615x0Q1/YZhtKGBRoFCF3zACVcNaYPFwSa3vVWqI0/dFlYzw3+TkShfb2pgo9GggEnGaQuBGAU5hGX4xQ0XCsVccJgZP530sYRSxFCy8vqUiWc6lce0kf1/3SQ1Vr3cUgqcg8QTPLJ9mC7SdxqyCV9O9rAKJvjcbCcF2f7+dpZOqgmfKkU3FLiZ/Bs0OZZL/3XDvDgfyGeZPSVgot7/CblBH4+7XL761VDJSSVf+UDEv193dNVtGwsDXRmPsuObEtM0znfesCRcAAACZAZ8pdEf/AAAfBxBWVg7BsALYrkdImYynqZKYr8tipXDLsSJuUXsLSjzoP7JQBrq1Vjcuyw45t3455asYxxB17osehk20msP/29yGgX9ZmiwVePHZD4UDaGk85TkMcu0zvh/WWGVxY8XxnM17nDXd15+uncYyMTBZ6o15Ng6DlQUC4mRmu9YQQJaPuuzQipV4FpgcuLcpDzKgAAAAuwGfK2pH/wAAHwy2/J12nJ0VDVv8ASlZy2OdC9z2fBuGlkltFIMihghDQ2/hYzcFTkkXFV4xZUoetEQYFJW+e+ZEZovBr1coUxNjFI88afTs2K34Y4GowSoOK4A3CyG2ksxFMlaGOSEH+LI1Lijzj6RcYGCqvgeLOH+BZmbOV4+copmMwkkWxUjR+RtP7on4hikhGYC1er5YDD6zYYRFNFwSOsALMYS2HiIOD5byWhUA9jynyestjfjrbQgAAAEIQZswSahBbJlMCGf//p4QAAA7nCdJPW4aNJK56kvYtkTXPl95gAmrbyONhDczbphfWKRGxHfMOx3dx6dmwstDVIQd4r9O1acfWODXyNvCRA+X0nRA0tBNEUbTzZ6rIbq4ZKBJtIahhWy2HngqOIqQDTK0yIkwMdA5oDH6ZQIkreLTFrsMNjD2JJKvSBpXrym+IPlWiQtdchPnN4UHWJfdmXVM8FUaBnEA5UByOSeLsF9S1JhpzUv0XBTmF+mqoHQs1RbCo/xt3CxwWtI5d28VP0AQS3l+/URD2vclE9oBmeytIQ5nRomhyYXntolZLZVB5teFKXBRNf/U507Y/4YW2bgFURJq2QqnAAAAvEGfTkUVLCP/AAATWAYth9GNE2Tji5b6q76xzzBAABV3DsMe6/d63qV9EzOdVcbz2LZ0g5Rbe4MRYjhNu+qN4DRGkcuKH++BdDQNVVH244BJ76xcy7dWu0lz1igPkT7etHJXnvYUs634FMOzKHV0npyRV6hXq13lLN/djKI53pwuqVb3FPEqt51dxceUtnfNtYKiFTyyMuRAROLB1CoDllpbs4WVdjo2mL3EEXBqf1eMSkt/N41KeXutzBZRAAAAugGfbXRH/wAAHkU1BSOSuZl/n3hxQfcBIAONtV+gFAzwVv5Ow+EsCEF6/6wtkgz/QIjh3HcuGWY95Wd/knhoA99y/3LNcPwTg5yTs1IUzdybzX6lnTbw5NMl/AOE7/Eja0eJXz1w4CbS7oVjrOmmSdS+6ZotmpZTsZcmW5Af/m4yaX5fJslCZ1lXyjmK6dDOrKqsbqRnF956nM94w2rLgWjNLBmZb9p5joctAzBJXw6KWeImedy9IMDFgQAAAJ0Bn29qR/8AAB24Abc0BKaV+lI9eVKrZ/qBuNE1YAFqchsVUPLIsK0SMQI4U9KO2Zfkm1bjZO4tOidDg0k/fDLgLXc19vzbCRVs17/YMndkdMuF470Z+w6re3HZb+byaoqSjDlaeA9jnLqrFNelehamWM/qrWziG+Sb3DUDc9rueaXGtO7ojad7vpgoM6xbVTH+OdkryMWx2jELqJbQAAABCUGbdEmoQWyZTAhn//6eEAAAFzsFX1Yc6hKWgAlp67oFd/uPUXFkGzlAcs4Nz9GoKMoHcfRYB8K7mVXeqph4Ou/XJElJcnedaL8vtDSuLmRLrlF/m6+EKiyCEF3nJ34h+dQ8fwNzCnB96LzZ4Pqr2jF9v46ntvh+yPJ2Q0VWfD/SV1yi+SzOyizZeqQIrtwpkXzLc0RAom7S2UvsDIJi9BGOzt0ZAvnj24WHuzSSjtS6L7WeqXscBqlgT/7xvA0FpP7Rk/yNEbWOhJZPtYre/Dzomy6cf/iN2uAIC82243WqC1AiYT//CyWnuk0I/RSGHfe0xOHTAYbzIyWiZheVDAO0ypIukgpZJ2AAAADBQZ+SRRUsI/8AAAdnELhPHSt4REN2aOjhx1Ha2BNas2ed7fQdyC8kALc7XLsy4FrjMVYOd0t0pG82r9UjVMgXVTUSYpkt8k8bZXw5rVmXysGhSTkT/F+bi056N5V9r5YF/hRabPgl9ECd7hDhfacCHTgH+d3V/dGBWY5fVIibFuAqTe5RZJF9KlfOHZ66kYHvi9ocABhPYKDp2B23EYJ69biVZU7QNXvw6arMzfRapJVBKlfopbmcdV/fJBJz2kAl4QAAAJ0Bn7F0R/8AAB2yYemPIJwerfEOOdWT0RFFhy/JewiA8FwqpdURROH9ywADju6qG4oKsav/e7l3TTnxQFqp2nz3h2OP31Ocb+hUqve+hFPqARbaAt3Y7GFWQ8/0nd6M2aWK6mjH7RyhktRbP+QqaDKR9pZTKFqg2dL1mkioDDcJ0yaGViC8SYuwSY5pS0G28wsZcsUxD13HoIzrsnmVAAAAugGfs2pH/wAAHazfnDPDCM2K7tlaNAfIp4AOK/7UdVK3ajckzWZgmX/6DGp3Pv3m24RzwCvGadXolf0TNtrEjcLfRgZU7ocg3CNDd8irvevFShnm9cWO/vgmPO/5q8vLvktonNiB2b4WSL+51MB/BbW9ik8UpXJIj1y/XrfxhANkhbr2BjdOvYPAJ0sNmk9QCJfeqHATMmVV9iHsvggiNMFTEbn5TRDnBR4fKaAT2gBTyoNyNFhP3buSkgAAAQ9Bm7hJqEFsmUwIZ//+nhAAABdfyOKE3q2MBUDd/jai0COXPZaHAirELiqNU6XoUgi4qKJmAMmAFCa11fzoDY956Yq3PnF6laPz+QbU4b4PsfASo+tN9y5QwSeduUrB0gC0L+DYqGd1LRiGUq5IH/C6EpELJ9Sdg1uYqJYihjWKp9eV3MqeD7c1ss1eR34aa6f2yPBRhTbQD8J0ipUX2+LG57jEcEgOffDvhnpzAeNhGT6rFVvcWqcQTwmeTjB89YcNz2nvzhrgWO7+UU7SFWgp8mvxb/FY3RKn2qhTitrPxgsZh8Ny89mhreFNIs2hvbSh24Xp2/2WodhO9v9tu2o0l45zcVkiXGnfA26VGjuhAAAAw0Gf1kUVLCP/AAAHbc0YJTEvqgDkfBN7vNPBPoDBdtAXuYgeCGzQXavMq9m5Q67Tw+xuGkGxjl/DlPMfJCbrx1jMvIfI3xSiXzzAj4x7jkrjU+gxIrqRwlIuaCiuZXlV5ba3Lkt4DmF5FNyc+nGHFspv6jEkMV7gpJi9rNYvxww4HkRNa0OEfRqdgzSEsQbzhW/0W9FMSRxbhxYPPhH342YAoyeR7lHAZYhJE93nW3mNDTzkwjc329DER8xiOJ+yFpUFbAAAALcBn/V0R/8AAAw+CMUaKOeHMADaRcQFOTxguoHj0PiuA7xfLKy9AM9vqP0/ZjnmKeIXtDb1N48z9yfc/uI2BzlL3s1oHUdi8znrPwNdTbzBiU7M3bc2gdpNtb1kCZemnIOPe6YyyMyKDSw7qBEAfdEjHHKsKmG49de7rAaeKRBPLhPOapFKFI/8sx92wGBEJz6hfi/aiMeiLA3c4KRCP1Lx5N0BEqKvF4E2a24EjZEbaVn1s4QJhy0AAACoAZ/3akf/AAAMRJCcOvMN6JYMYAJYycz8vtcs6GhxlHqBMms/8OZk8S7vnoJ/HOKwQVZxSET8mxEjRkmtc3yRLtXwAJeKAA+l3i7YHPlSv5IKHPsNCqWzmo8olZLDfZz0mfW6SC3ajxXLbU+CeZ5utjDK30fJEHaCOQOrG1zyBFEMm2os3VeLJ6sEB0tp7pvFlpOgkyIxQc60wOr3nPJU65QTEUjh7xExAAABGUGb/EmoQWyZTAhn//6eEAAACOqTpehcZAA3XRHGtPJ4db6BWn1ZBB45SYSD/nyxY2FU99M/NZ9Rp/L+63sX3pbV4kRmIK7buueagcXpVbQWeOVDOTGDM8dhVTPZJcogPLcBYoYQvLLyph8VMVpUukbXq04jWVAXcCPZLB66OOs/VxCyKGeJ+OBdk6ouG7ELBbo4hbEaJN1950ra4EFBIwMCbqZs77ytaRjV+Jm0rCWiTd4B4ZZujUwFGAXsXfz4ScsJyuwqPsYU1j42xIIksNrAZEtOY77uzqk2LB9K+KUvpwt2hRLwCOOWVG72+ouQYQNAktIXFUkEfLKnGNjHFN3OBq0inMY/bZKECSLClVcHsAOkIPeysym/AAAAvkGeGkUVLCP/AAADAudMTy+xsnDE6PUiG76OZzJBaGKlnJD7ikxcAM7fRahSw3zzGL9XGaHwYwoKpBAx6WJCLXeLp4Q325lvEdIQ33GfKph2gwGKl1qgcF4JKGbSVl6qX80Ta9d/DHf1hzT1fqCvqFqjWP4VBYBGwFLbVgFSS1Y3ixp6cYb3OlmwAXuP2AhW0oK0bg09iq2730RIsJlWl80UnNfSf5LfWkGZcfY1mbj5/rNufe+BrP98FTNAAvcAAAC9AZ45dEf/AAAEkkVRAl3gIWvRIIC61A5+ftVQx5MOsAHF+AUTpixEMquPrLmeHH1hsn8SxrbMUGHyz+UBLYIqXpmS+5YtRsAuqVaUM5/rzNim5S5ApmttS+CQAXs26tEgMH1Qce8kW96J6FRJ66Zzug+eGeZh6J4AHEftT+UxCbZp9xwI87N1LJ4gD8WRx5YpmhqYBvZ1K49Dod62K1sI6rQGNpwQvsvOD5HQdFvLTF/lYgVG6ij+rYInP05YAAAArQGeO2pH/wAABJOTTnOHk5pXdvhFi+VPUMwRl2WQxbleB5Vok1AopQjRQ4RFxoAHdMia91l67Mss6lFrD81Kstl4LTVJJidO6m1O4AT9U6knGYk+PGd8vS8czsRJ9BntlHbWMgPooR8NyHJJR0aXnLdwUcRoZcVtp/1KZ7wI+zPb7I+ygSDkGXA1+HePo8Mu48AZDixo8qQM2AQgwQJDcvbU88FSUlz9qpYCIltBAAABIUGaIEmoQWyZTAhn//6eEAAACPf5wsb/Z3GUp6dwwH6KTHLq+4FbRqpv0u8i1s5YfhpuYl+7sSfYSzk6an1+cNIgOCIwHb7HskW/9qn3KSxI0wjjtCZFw5+oqJI+LWsqlTKLSy+dR6gYtHY7jjmjJkkCqD3JR2kuHRPDsoBD6eRrR7bjJz66+sjuQ6ORnFSpDzLHFQcL8Oone0qITCML0byAzmadcuGI7dVxKaZj+6abSns0lsLfiASIxWI2XYQrBvVr/AkfG17+jSKl2PokfOCdcjomFni2YQTOocsOutQ/QlSwrIyYAk/wZkOO0aPyimV6nK0+3KbWXcNOX/+sDnGF9kzf9zY0cX3X5f1Y2kr/YrxLaDfCrPTdwmuMygLnbMEAAADGQZ5eRRUsI/8AAAMC6boJWYhTbmJqAKygfu6c6ADtCKgXVMI4Fgq8YDgzpXfCZoxpi5HgXhqMKqnq/Gz4WHKS1OJPylAVJ2TAhUpLP8DSiJd6EF5YUHdzGrdXNF4aBiJ+ba81fQjfnMX8AwiYRsvG9TTRJlnevPNcuZo7Tod5t8tu98aBmHO87FCcMJTQY3DQDBfPsUfrBFHsHMQ2j+f3tvWywRWbtJfD4PZmeWdEFAu/s7gBG3KW6M+Jj7GrWLy0ai62MBHwAAAAtgGefXRH/wAABLhhz95YM+3EsuNeUCyF+orKcmG6A102yCi151X7r278f/xyAG2r50b9CCwKYd22/KvnRrhd4R/BZyobs3Ib37+Z4R0MtnGsmxS5Ps/ZRUY/4k4GWVDuNVcz5TEm+TOab7tGapIuQdER/hFXs/xeftiopOL2etzR3Im79yWdHyaMM05M5tPhw68EwEZ+vsCrFVzgV6OLjaLXao7PO38GQXuNG5NpwHP1hdB/gs0IAAAAqwGef2pH/wAABLY8rreDW0F73IhMAAOMGp4b4rZjf/30CNS2oCFC0HHlWCHFdb96kUWiuqvjveYhHkpjz94Omu/PDu0XsWIzXUzW6aqWaQJJEsV0wj7CR1X0VMu9KC8BBkAh+UVTZXDoflMKObTH7NbfIWWXwy2OgIQLbp7V+2VIUhLkRLcWqavbATEofy+xE7ig+ABB56O9mAWzcHCKa9O9mkKOxUJ5rS0toQAAARlBmmRJqEFsmUwIZ//+nhAAAAi36U6bcO155mW5v2+kmaAY/R6jfNpgmstvIBqOE1bFyu+/MY0JrUsqB0yyTX1L9DsNMxlFsR/5abKPvrRKB0VohP1845apWT6lbq/NHI50hMke1xZ523B1djefGdKg8WLmHV7vAiT3XFg5RILM7imiDLK4CTC4oO1CPtL38oUGHKpd8X8oxT6UaCWBrAjXgyLuQ2COhE9MKYfzGt86JcZjJY5v9tg9gRLAQGa4W/KE4R2ypb74h2rCWKEmnIRH0N9tXoPHsCRhHJN/u65LQOkIZTJawAJXLKTaybtsEG8JsdkGBpknOsYitTBMnAa41XwHhT23T/tt3ECJUe894eO2EVzTSrjggAAAAM5BnoJFFSwj/wAAAwLWrBJmmrRHBwASt0s/UAXBXCyVJ28HYxpjy7Qui1D1akrdGReyKHr7BRpKYl5UJDCgUS+mH+hY7XYFfbBi8Wd8jHA7DsIbsMnc00hxIrSFBhE+zIumoL0ftFKsoe1MqXoiqOo/ygVYWsfe6KffGxg5vsVefJ3UUHq0sAstcA8rg4Hgmc8XYJ87lNTZiM0KJ01aS12/HWrhnk6BE0hJeXkfAIxaHkP4Dk8pbc7bjkvVCTYZ2r64WydC5PPbQK++HjD0gQAAALEBnqF0R/8AAARzChd430aQhz6gM1ia3QAW5CcxQo33qVEpAv347pqeQJYSjnU9kP5jRs9ccCD++XtIuQYiwGa/OveY3DfouZuTe1qPJkGAjWTHhtS8tsKxEg7+ZeIgalftXn3LesvwqCo6aC3ngT4w1ahtr0gd6p4Gxy0cKJVbmDU3AjPdxPkxMuhndK34z4DAp6vfxs654jOaw3tbx7gFjxNf7MAJsBgHW6X3ezzxIfMAAACpAZ6jakf/AAADAdx8mAOYSkdEEWD185IpF6pEIIQTuPWOn3W1iJKRggZPLMTo9ZdPyix4aftkk29J8hdEgzUdvMaXqPByQWlCvM9gT1pKU8djVVIEHaU+pHz7YqVcQElbN/osrs23EVWOAp0fJHvW66xbtAO5tRzqkpeuNcWxMAKz7cORnjKJKcF/Tt1KTkAbujsOxgM+milRu46s02DXeukZtrpYssgoIQAAATBBmqhJqEFsmUwIZ//+nhAAAAMDcium4s90XDkCQAW5EcGi0I9Na8bkYh/rytdcvgfWOlSJGKBRoFjiao8O/jayTAJzqWNXydIgQ6L/kG7Hr0Htq2WVxPJR1JYRSk5K+J4SmM87q1ta5iDHwxKckqp0VyFnpPXob4myEgKV4jPY03WTruHn8+yMXxSNRzWkRc8oXQD0E0aLraTb1irdlIKLrb1IeGNMb0vuGFnFxVugC3dDhoK7dqoADN/7LVkff9DByOwUwyCvxyVVVZy6ftcrycXKjLdOELCq979uH1ndIFwWw9sNveoCkADoN5ntySCkTC22TXql5cQmrul5OpM3hSU6boHQsjGuIJsLssQLuSC3kcYuWN7g4P4v9hrmLhouMPFcxn/Z0Tf7pMLVZ+3zAAAAz0GexkUVLCP/AAADAS6USAQjuSTsZ9e0XrRC7+TWPL8c9RwoCY20sNrEdApgkOu8N0oItOpB/NMn9vyR4ET1KseKnf9o4SUD1oXGhnryN18kodAJ+60/ymFVPFvJObmrgsU3TXeucGlqTnKGc8BJwWbYSMohpCdduHzA893/kLu2ZkQaEv+l4caxlM6++bkjLK3QhrqWVQ6NIxIyDIVLmP3CcEVYJ0RSJ6Aw2LjI9//BGtC1IkE0+bsuIy1Qs6PVAOPfpMA89Y4cr3622ZQIOQAAAJsBnuV0R/8AAAMB1fce5P4L8ABGRLVWIM3+/H1VEt7ftS4jGSNwcEVTP05NWiTOcwRYzv8dFa0oTYcAwbhOCfcvrKEal9syxwSK4QuANmt7iRQ4s36sVYbfRXKwNLoK65dOPeDlURDz1y7/OuiPP0tJq8/o1RRyVyKfJh/oW8unkdvO7Z/6mVgHvz1NUIaa+VLGjkQYEwns4BQDVwAAAJkBnudqR/8AAAMB1fcpmpMopIvXRMbLd3bqv1qyBMptaADjWgVEXqTW7Zp4lcfLdKo0k/L7T36mylH1OL8Hfc2o+jHzjj7PlklMPPO5HmSc55rnFf1Z+spYo6Bn3nTcCCo+eF7/vVBw4OL1gcIZANeSakBBd0UAEQsk9Npr9YApZM2K2/DoYfTrjdN9SL91sPVf2oYv+zPsF3AAAAGCQZrsSahBbJlMCF///oywAAADA33CZSPRqYVVH1CIhguQYs2lDMqXFX3iQD0ixJcHVycbnnSjeuxnn2sMWhjmTOEP+I2AaaKmhjbW/mwN63jIsmDxac2cH3cg+EyEqT7osmHJkKabBC1zpFkvY+pUFLtXYxGiTTD75aDQmlLp1kFA7KjwTnT9j8r7xMWBYwsO19FzuIQHirB/2cd7bcz0N+HyNcFEjNmBYQBH7B1LiVkskvFTfcv84qg/gSuzsxCdn1vc2b484aQFunYyQoecq14tkWjntMZwN2Bli0yg313m9adhW3XxMbB2PpoN8C+QZGaEf0LTbPesPvQkGr9mjzVcTpHv6rtyGu5iA62zCaxfCSmZqnK4REKWluOho8xyP/e4OkX1PX6o5We+6FerUgSlp3fqieOIbeAYoJZJif5ZdH0Y2odJa1k2sSVgx9sJ2bAFrGuULSbrSPQfwC5nqsnZud+QgGUSNYWsoGaSyh+zSYdZnZ4sfb1InM/Vutfd3HAAAADzQZ8KRRUsI/8AAAMBGp/m2qkSW0hllBnE13evDsmRy/ns1bxa6I7WFAM51twsCtdMSr1j0djeffKkAFzCgQoToh4du0slkt0/xsxuR6rYnGI81DeP3QcRYKNoVzlipZloLfCgKsqomz3hfmAA8C50DMxn+5ILguuppuD1cR8k9qC5zJBs5DqOBuD+QGikkm2lpcJPM1zZNuxz3Gv9k+Rb+NW7Bw9ezTsEASoKDgXieKGcYSw04lHRCBbSrFUVuA+9/aktIM2qKMo3nA+8F2pqxOIWe/18sAMYeykkV5npMBWs0LtvuQQYP91prqeBqe4wLJ3RAAAAnAGfKXRH/wAAAwHEZB3/rNnngNXZ6+KEMBHJDALPaKFZbY6QWQtikXpv37aLe2L04wAPCE+pjc9dyma7OedMI9+rmyrJs89l4stFC+bH6LJ6HVkZ4W+f18uotPIzE1cW1ToNQVRaj0dXCS3/YrmdK8+khytRiT8tpptFyxtNsNsU2zxAc7wH8hvlmHREwlqMwfSyGrjwjIpvOgBlQAAAAM0BnytqR/8AAAMBxX3u+eAxypDSxjm4gAugBeMWNHQ0a5zSoVtrwbCRUdHITtLhaOXvm/23ahzuD0SjVhUeQGCvEkXb4DZ0PUwCtpfcC+9i75F5dhkpuIuOpdBe9n0lh1G77aHUpNSy/5O5onsHq0BfdO8/8kORQgmMYuHnPQVqiys3H5tiyaXV4+13wYKM6pNek6D6HmwFyckQCiBiIhiE1i1nAhBmGtyfZhv5qS1mlBVv+USy85iHsNB2KIXO8vDcV2wRnhEJc6NOgCPgAAABWEGbMEmoQWyZTAhf//6MsAAAAwFde7iKP+VtYAOMyGGR4fRnXu0O8cKhavU2xD+jJ24OzirZBJhxSq/+FjXJIPfIv7QBUrTpCsAUBlcO+WkYeZ0V8WKeCCICNPeD60c6MDkASRo5ydRPdsjJVEbTn9jBfsjAthlnvyY8jST2wBozBd0YMIU3XaZcYQEWeDoZutX7WES9tb7z7TzUYQZ4i2PlPRlBBI06Eg+FeOpwnh0ARl2XX4RzgMuIRuC03yPXMBP05XRUr6Z2KYU8kDsXJvhq4zAL3bilEoVae8Az3OG1ME6rZQXWJI5QgE+jBtzrerieVEnfwsCirlU5ocCjESYuQ7BbnRpbjF8SlajRFbFoO7yVVdnh5yYSk8mCPTQxpojupX2oJhDu2MCTFwa+N5CaEkzARb/ttK+5JlOE0yObdl5WlzbYylaMYkHor8dICd+9305ml1mBAAAA60GfTkUVLCP/AAADAR4qCEJuCC2EyAvqDcF5larOTLpcXu5g5iw2xxu3sAEpWFcojbRS50yUznesUdyXvPkKF8WIAry30d0YbPIWRMw/ESzNyX1aumV5qME3Ss7EKyhjf2t+ft2TEkWB/9U6MQLcqDllY6eJ3IBVbaWjLAz2CJx+bwXcHO/Jo2fBhXS4Mcf7J5txO6KLucUJb++rUq6RkWkB3mFEfmZx0B8f2mqHQA7VTY1ytbcknBDMGMFOGt6kBPr9qsxHTefxFMmg5Pi0anHNxrdF8M0EddnOetsxDvOpIdOIsS931YooYXkAAACrAZ9tdEf/AAADAcSKh1FwBaLj5Z/mzpQwbmhEHazdttC/02gwARmO7FyrgV8WgKgyz69BuMXprhq8aVrE17/v/n+EWFZeS3lulgMmCi2iVtbV9H4M0ZHrKd38bUulkv6QKfawQdrUABPhgiGdu2BKWbcf3Z1fCYhaIpG7xx02aAs3xJtNxHcelDK4jwQ7hNj7/bjMpiEtf6UJF8UjkDP7UTjxFVndj5MnwMGBAAAAsQGfb2pH/wAAAwHFgCBipGPt67Zu6AAnVr8FweMUnF9p00E2Lfu75FloAaid5/YItnWO7bJ1HWIU1s4H4Z9pcYEHDo/KhDJVEOvrzQuVU95mPwI5Cv45uj3rv/Wvi3oaA+VVfuoLKqZ3unIhoG6xQn68aGu195rq4/qwehCiAaAPx6nqlxoDmgaRQ5VghuDwbBAPYjZ2p3qqDlQf5N1YBx7MLLxMPOn58JclU9z0WSY5WwAAATlBm3NJqEFsmUwIX//+jLAAAAMBXSoXdpayzABc/8i8pknazRr4y5rDGHKXc4PTw1NUfrzDLvB9GzyzCIfpd0vAt1SsC1rszHb8AvwLJqmFS32kMsJpafjnCDpnTLOb9kTmWZV1wyzv7j0y23aGc+xztR+K62qDPg4dYlqVLIhxJ5V66cxDBREX2ys89IZl9fXu5ig0pahDZ4WTvU1jg+t7hTubuWEtn9HjpwZqQhzMpCSLhdRoWXoXcXr47Yw2FeayWdxaJ80GId9PLtRT1Zp6PE3y580J5gu5O/LQRGUc5Xn1Y7olphPRQ7ZMYMCErMEjP/Ptse9cIDW/+s3rC37vEooVqOayeQJ69S5/GC2X7eDdPZp0l1IdaHkB9bNwiVcL8POsMImLVdDZlsfGfvsR++VSsD13D3GpAAAAvUGfkUUVLCP/AAADAR4qCEJt97w/0KWh7p4zJQM2AC52cCudw/hvwzatgU00bdga8ZGcA+zU//u0R1PR9FM9r1Ukzbr9ZATeEiNiXMawdsochcbp9CQAqy1shWC7pVB1ORw4Z58vfeoonDA10Qc6vCYONpPgj9DnYZntnQjBKZ0hw1khiiOTDIFc4IFHw6U6OcAQDBcwqCaeoYZ5gcMrVDA0FU71W1hDm+4AgkdRCJReaeJ4rX01L1rAKIUpvQAAAI4Bn7JqR/8AAAMBxYAgYqOD1koUkUWClW+qoACvTkNp1n7mg1wkfySlEh38zxNcwfmnkHFpnTMVQre2eaDa9F6SQhlEe17E7RRE2i1kqk1QcjQGUWdwb4J68SWYwCKJOD7lqo+nsh2NqUZW4asT6FcNNW8JK4e0kPFmyq0WivacZcVM4TftwU+LUGRpkM+AAAABR0GbtUmoQWyZTBRMM//+nhAAAAMBWHT8bTMcq7Iwura5q+LAATnk9YXa6QvRoNprczXT4VfeYrtbhi+QtWf1xNHU5Fc+JaGgxCIDjQf3a9OJmePerOIJ9WaY0TInBQRiJJ602rAs1bRDu0QO5jBEqHPWczNlUitygsoEt62xyOPCvVoD6tX/VIQVR2ot9r5MVgSYJ//AL772hf6twb4fkUE7N1xVwTouNzJU/sJxNkL/V8ixnCGsFSUsjzKc+FpyERLSXEQqOVFrH4MkqFFOVmWdK9+NdphuoBSGxcDrzNmvI5YDC3gbWsqhXv10JV4dPVU/43XpAWcJ5SMb64vAJRI2UPz8GXgNoPyWOA9+xbDKdgHI12ohadANpvicp/D1FlHd/4pD2lw9wkEXm8LmzjVfRv+W81BCOCaSG5tw0pukpqXnS/ec+AAAAIoBn9RqR/8AAAMBxM4QA3CKuffvaDW5rD9stJyGOwAFvENJEp9FIFWVBSEeI1SCRpaHWfJpX89TS9oMmO4jNwU4I1UqPRyfoiWizaSrcFsvybqQIfhp1aN/oViEc30qfwgmoc0SAxLV4oyjG0sU00C0slDVH/Biwxdvh/ws7M/RtZ2ur/rYjyuwBQUAAAGIQZvZSeEKUmUwIZ/+nhAAAAMBYe80N1Pf0SYZkGRAASLPdEjtPCJ7IxrxiUOey9DI0hXGmZEUrEDoz5AQ0W782UhWNLKm321UmznV7todtbB3kkQ95NlhRt05AnftTp3YExlnOO4tZLa97O4mDESOymL6jZufNU1z8rbd8bkf/68wABge5aVQnOxABnzpm2NtmhGrCh5YEhsQ4FKnHA6Y4cmjZgTOkvHW2IuJZpN+EKNo1V39RrbcAjhjMt+m2C0YAiKHj9+41Qlw4lDQ59I2RxBrpnJgsehKcZTEYVkNqW0CRX6q45rP5IQAwtfT3ay3SxmeBdx6rSVWh7aIrLAQAKUyR/Xxbro70MCg7A7IJczMyXimgi6tpfILEbhduWjTcqESaFKKLwylkM4HSFk+SokckgqeS8V/tZFEQ2H9bYimKllqbJJBpg6pfVtNPULMD59Gvx1kZqmt3VfgLaX8oDG8VBXUXpD4+uahqx9TKv8uYGOE5p0OEJR+Da9GUFkccp1MwXade5YAAADnQZ/3RTRMI/8AAAMAdu3GFc1fMXBseez1QRwJHKsavbYXAAE7dSWDdyp/ON7LUZXpefQmG+sJLqcGz7+z1Zi4H3AG5snRyLRNc2MIDK08/JaKc5Lwa27dBD3WCHroYDSkRg0PwRac0pvmgaVWM7jnd1B4WLPXtJ2fe/82ZtbQH+t+CqXAtTSskG6ftJJ+IC6v2DQfKzlx9Ui99NXq0jy52WpuEylh9JAvutQ8Y9yaMp1o+PuCJY7pNBoB9y9/z5lEIpdgwnt4zKLOQRE8GN6UPTJjAVL3FZGC+TiSXoemcvLn5cki4BE3AAAAhQGeFnRH/wAAAwC+4lekLpMSZLnCh7JT4sM5yKpaamQ+b9JeBkTwNGu4/AALMC1Jcn+3HT0RfBEdhYfA601G4ZHueEuGidBG1gRspNklLbQfIlvg0eiVNzTCV0G/puVvccQA+yRxGwADyEzwN+Pcjty2l8c+XMgqE0oY8GRGjO2RDfOJuY8AAACPAZ4Yakf/AAADAL9K5vZWORKzL/Ev4BJmHQLjSeAAsPYdhRwpUauzAVDEFPRECZlMCmUJNKIx0WNF83zLcRQhnPxCRmBhL4aSvqPHM7h+LLYqqTAfgtMAbZLgjnVomr3R6WuFARyhd3s4tgM0CpOW9AnXgG7ou2ayzneTYQVYbKbd1Kg+lJmcuNft/qgK4l4AAAF9QZodSahBaJlMCGf//p4QAAADAWJj6QGDpADcY7/T2ZU/jKR0vzA6jFsqqXZWe88h4vxhZbBS2ue7GP/A5tdlOWPWLTnFLgG2wrP4yJjHillPOGbHyA4Y6je2D+lzFVzoNHBzWRDk2d4/0ZnQ5w6J6hwSacFX9wODYNlVzrp6DI8NVI2JOXTmdoBgox0LWOpOA4L6A1b6v1fKVSaFUFTIhPcq6QMMJ1HUAbyOQueTEZBcQHnXqRF/GrDUJY6rMXFIhdwGCeT0w8Nf/W/GiBM0q+Au6S2QPn8sb+CdR8Fn+Fy8oU1q2ZYJjW05oQxUoeRY7eta7Vz7H/815qaXpZpYfM+7372B2+M+tTGUmrJCO0TL/JxGurHqJk556mQLul0kc+WFS7PbvzOq0a/j6KjocnjAGiWRsfQpmxQ5wGYkDS7am5uDRGM5/adnQJugYBgB6RmzBlrzYl0R0kf2emfZz9vnzGN3+9YpZh0Uwgol2ACTtF1k29t+BjcDZU+PAAAAyUGeO0URLCP/AAADAHb3Q9jwL8bUYnW/W5M1cIdL6lepHXMMAAVyuDqYa9D4PL5fGfJ3k/mU4N2SYgpwZ32njumkf4IFRAZkZnbn/4i+IigMbmAwj1FN7p2RgfiTq6jcVAWNGqiSWXAmaQ55bmWspbV/xUwNUPd/LpODnRw3WyfF0tUNlAFaZOr4adWJuPmBT9sUsb4yxyh7FIgPGCfGdh2FIvkFnohkC5BqyPDJ4mJdNmOwbX+cHOD+lBArPQTH9HPtDdE+aFg1TAAAALcBnlp0R/8AAAMAvuJ9S1LpuybdyGwSApqDLpBZBCOZdVerStUKCmFogAA/nasPVn5E3lu1xth0FsHk5/xk5P67xMVo1xBaslHvRgvfQYWu3YRKCU+eefOcwAYKGMmY/BthzRPEOPqTvUBacyl78luOCYbYlTCfOr1PrrdLGLB8qO9Gr+GK/IALj4omXxJI0HlJxSet/uMgFsJnBvGgsLZcWUjuDaEBn8+1sOKLlSEWsGWhTkwiC8EAAABzAZ5cakf/AAADAL9K6XCjh0Yvmy49fAUEjVWviv0+kgVwvMQxdnrK0wAQ+5as5b5Uj2ABQx0fnXbmm2JlX2otGc1t65YrMHI88TDf8N8oEPSgUV2EpXGgVFoAdyKeoz79sQMIiks4jHFmkdWLuGIEBdeG0QAAAWxBmkFJqEFsmUwIX//+jLAAAAMBZbsr/1beaAK17+EkAEbSQCQ/i08v+wAxPyc+H6QIcsr2VgF5Tw0gWdxPixiTR3NNc8RTJM32R4n4NM5mg9d3IH++lDcUqct3mKtAtjUyylm+GARmdiLXmGyQJqmNz4bjhXz5BUY7A3xX30qeUEOlZUn0vQivZ5ckGmCaPcchaoblfjCQ1cxk37uWtWbjhYbL984XEvII286UIBPnrd+O+Uq9ym18l6z2DJY9vMFdDjFDB3ukiroZ6F+XpoF5wdGDmgJp4jhHsiDNhuHH1UR93/Oh1Hn3crR0U2r7en0INl/5C9jCwHi3pYzm+vIyNvBnHp71gTBhFc47etF0TwdGkd3UesFBc7/XIwfLpAjybTV8blzMK4DbBPAQtHyxgLcFZNhkMwfF8Sxr408S79KSAn16QkD+nw6sHQJ82GqAKBgkhCNnaJ3KEkunGvNe4NUvtq4+8SFr8Kr0AAAAskGef0UVLCP/AAADAHb3Q04MDeDfmIsU/kYwmqBs46UTBe3Yw7hbqBTC5kwEYwMrYKwGAlkYrIZ1Qd7iaEmVW/P3df6oQMGDqbHJ1DDPNcuqwZk6vUIPEKFaF93jO6zXdTRC7CytW0zrKODEcaOxVNXAVm4yJVn5W9oz9oPsfbNFNH2yQwILmjGY5Y1/h/yHAsnNhT29HBIRfsXGP7sVJD2uiAbxGxRyus6nCttA0izTyqQAAAB9AZ6edEf/AAADAL7goPTMq4ciSKjzFZESxOznhRk5ojB88AGuNPe0RofHoAEnjWzd/U10OYC6GFwUd30/K9IjbErDPM9H/0guLDHadX9W0ZJEDb8Wy59IwMWWX5bDuTRcenERah45r7IncB5vT9skPGkZIRiw5zLVYRiqlSUAAAB8AZ6Aakf/AAADAL9JfRtPPORjfxh0npx+y0PkbgXwhf2+ir6+B88l4S7l1imI0NUALTbnWX3TkVnQH5ZqMZlm6KWS130hdMuIJN8rq+QbuJSWBGga8JHPCUgTr7Lolrl25mSoF1vzENXd0utyku872rEuou5QT4t2yMZCrgAAAQ5BmoRJqEFsmUwIZ//+nhAAAAMBYgrJwoNgBQbantKbd9OW4G55UHEraPVFMdmq81bYkk346aL5xsfzqveDJw4r/8i6Q+aqW1lG4XApwbFUtmayjdzZQAJNKgAp6E5CZotTSJzrj7B2ZYSrzwlFYs5WOnwTqD/uD18ST7gOjcm8WV7wIeIvNla63aJJKDIIzv7PEPHvqo8N1OTAVuq21SIM2coB/eK03Oroclm/MGRv1KqjEJ4jkDg3duo0xsjUImXVeg0kQ9E/yRUKO/K9qaAqbWJqVl3lbob5MH5mIA99cIDmFPehtRldEEHtFblpuXBMvP/wXr4786wpZwXZ8ys8uuYnLwn2/JQ56OBM6+EAAACMQZ6iRRUsI/8AAAMAdvdD3U3HCHlnS9MkPETpFi/FUaH7DQIuLm1cxVp7EaLs1gxEAC6jGJGcBpFUzG7npPN079X/LLxoe6twf5ZDZkownSHcUnpujJt66zWqImXl73mcDhvkDnYCIvbvLI/l1rzXZnS6hfv0ul2aGouB2TUDtcUlqUA1AXTPBGw2pOAAAACUAZ7Dakf/AAADAL9K60hmGLADo7cs1vht+wqQQMBwLK+RvxQ3+9YoC0C8B+6uhN6xSR38sqSrNx/Grba3TArvw/+WhHylkaZzNzI4JmEP6GwqdPKO3HxZpVl3MerA6433/TXufZWo4uocPh9YDPzkM+VOtIvXbGPUtrXiC+GKYhZS5PwffuLPRmzxxkyw4N3/IadtoQAAARZBmshJqEFsmUwIZ//+nhAAAAMBY+ZZZfKB8sAl4Ap/hLADZodl4cEVA+Nw/laJc+Paekyg13qSYAi3d4afqm/vn4HwvFd23DlmFd6zq8GB9OOrNRao0pnxaBAGanY/3dQIALCcUUY0Ggwv9CAYqiGmIipvIy2rYlxGho2ijCx9tkGRZi50GYYCRIL9hvfObFM+Iw4If5iZi3qAtmEOdk8ZQniuuitrEO0VSsYiQxlD0XAgL16li+9xwowxj/sBtLlne6B+2UJ9nW+4+q+gLY6K9hmZLu489Z2bPKW9SFM9UPxedZgKqaGAMGHsLiKDEtQqtMoo3XH637+nb9J2n/S1C5HlSTZ1vgLwbArFfnmJoL1wmFLLwQAAAKFBnuZFFSwj/wAAAwB290PwMvXuVXz3hqHSpC8u6/bzBZQD8SlUKigkbYB4AS06Pd5EME9YDDslfzCy6Ogp6cL2PX56EGtNZSR4/kj4AyiYnymQy6WrOhSJxaBqsQZpASntvp8eImLgV4dc3F/tMFu2zVuL/ch3plTklDXDW4bdmOmL+qmJTWN00nERtnFt+C2VVwG779u0bfqFXPsC2YQ/wQAAAH0BnwV0R/8AAAMAvuJ9xKye19jYz0X3FkONwTEuBIgIB9ZW8a+hAB7FehrEYDsoy20bUzlxgQknP+jyViLbMahiUMQVsJT03haEOo6dxUtFWF9hiN5HSSuyu6quTFDO6p+zJonGT4NtWpF4i9D0GwJOoogLxCaz/D2RpBxidwAAAHsBnwdqR/8AAAMAv0qZvAz21aRIOIL7HvAxOjam4FBSpCTBc78QAmiuBIFOzfzrxeB8Zqpq0LMuH2KyHXNmdQ9XtZrrCLk/6Q3s4ViuhuI4U7NW1QpFo4M04IDDW9bqgXPw0IHgtdi5EYve4nuhuZZDHxjnhgSYBw9CVQcAAAEiQZsMSahBbJlMCGf//p4QAAADAItFVoFIADlzFnYPM/ZckUyctrtyu+TukKNOnTqnOlc+KMVq65xbYGKvTyYx0ZMSiKGjDVgNeJCC2JpWR7o5QeTpbj6LjN2nWXSz2dPn4UD8V0HUFSvc54ndjwA0T+lruyJ2iQbwADvEVKjB3vrsH6V4LphCg0JeABbErXijOMAAdJ0vZB8GcCYfaey67xvkV/Da75M829eH+ZcBhOZ7XNektRLmWQ19tlg89a6Z9dwRYYJRhcMVCItFgH90izKpkz/jmjmlm5c+I45zXpe3MboU7spTtOiqAQcD4ObCqNcpTcBrdmVW5PaS8UR78qLVzUJ7Dbd+xh6v4qrG0dUrAHVAo9wxTvwSu7Xf2lW++YAAAACWQZ8qRRUsI/8AAAMAdva5PKzVNGSJAAKBP4bxh3oC7adrVnSvITnoNVIWiRK/UCQPnJuaE+sLJtsXU8TLcIpBhLi8IsZZkCIjbvTIedyBcwbiA9JeaRyiEr40+FFPDTT7ccNhJFFFBcGmwx9x/Q9FDxX5MtOXB9RW9dlBIeICn3I/FOcK13+CDycXQ1nDEOR4FbfOlJuBAAAAjwGfSXRH/wAAAwC+4A8jju5kfMLlm6kg1/EAyTFNAcjN3ASFSCGgwn7XIALeL0Mmj0UCy4Bz+XwLiHyAsnbpa4Rkcol4QYSlK2lTTrUo2nv+HgjLGK6gjIqvyQ8ZHMiJwfMYsK6zUuazRYfrqfGNaybzfc+A6yJd49SJU5rDafWp0v7aLxweH5/S2DmshjPgAAAAqAGfS2pH/wAAAwC/SVO/2cG5MMQlbjMi2B+lFw7EB12re16DAAlh8zeuPIIHNcRZAxUXzVWhdHt6i1ubwww6C1i3nw8Y94HteAhXRWNH2wHupm6SbZSVYrvIpUX6w+JVyPA5AHIWB/UyPc0htqa014/SX1plOS7yql2cinxrB6h8XPGF25PR6auFzn5KTdUqWZfhCYHJGDCj+xPDGbs2QEV14tIeQWJDcAAAAT9Bm1BJqEFsmUwIZ//+nhAAAAMAiqc0HtICgm8Fo/p83L3uBCMMg3utx7CC6He/CfZ3lMNn9ihCl0EP0pvacZznqETqg8gJ3CFkBlRZw5cowF7HG0DtH0AbXXn83Pn9EGEuXQOP7gE1+lA0oBU/rF/0Miwgu4TkPDXxXqdCwaCKAodwrJoKpaFOQ1oW8RTy9a4RStHaNbrl9000rhntBeRebawOGxPnty3yPEA4A0B1dx1MomEn2tCVfHZ8iW8jmBtRn/65DFZBJQjdjJABsHkHkGvluFPhmigtbOen39rFpj2mltDz8DX3nQ8N0T/l4Ts3+eyI/vFlS5wBq9eQ1Kd/LpmFv4JSyWeB0jvcRCiXhMAGg4CPXTbvNx1xY+XPGTOMD7IbxHDtA8YMYRU/Grs6uMvSIQKvT8j+uPvoTvVBAAAAiEGfbkUVLCP/AAADAHb3CkvDxaRDinN8PAe75ABOpiCXJ640lEPNI/ihGsTRql1+7X5fTJhoYNhTFbQ5pkN1nTNHHBZ0tOwB+hZG1PTOt1fjfs++EpViWV/2Vop0bVtbszHy25R3EiCxlvGLqOMzHwNmCo8JBJRZns+6E7aNbvvs91N5Yb+0SQ8AAACQAZ+NdEf/AAADAL7gDyOPRH2OkHuBVaYu4aDv9OxO526AEZwjyGGuocibpv/VTvrnOBBwJckKRc7dO36cok5hDkHy/TVwAxPuENCdqqs2AeC7H8UU+1pEqZt4GlA3BVb8zQR7xS6KFLgFzNCZV1H9+yOmuBlrXMbR1sRjLK+EDS1+t5WE2JO9DOtTiLVmyGVBAAAAZwGfj2pH/wAAAwC/SVO/2Z+jcVOWE1BdFQEb6fpKeV/9VCQASoZjYrHaUo/BB611G9as+lrFQu4Mz6EmqfnwmeG6qKSa8LbJjs75AtCgNMEg/l1GnuIQ/eIyzEqypzJVd88s6gyt0pgAAADDQZuUSahBbJlMCF///oywAAADAIz03oncpp2aJiYACWrMnyQScAbWWyFXABEwZD8ZcZp0+C13cQIi4SQCMRxcGp7M5ekyuQSXRwjbvunflXrUqReLNycXaGqRa59S/KkdgosmWx7GASHCmMCaBafWDL0hexGbVJFvzQRauUUcTj/F4Jk6Ako36KTjTBFfgJjCEMWfNbVtbMAkZ1TC0DzilJiw8PzSDsR2+u6gburBXv6crhy7yfagSJoH0ny4tDJSJkggAAAAekGfskUVLCP/AAADAHb3CkvDwOvwwSgznzR9hhF18kD8Jcz8/TbW1RBJMhUMYzqFwOIAICfVdgF2lUt3f0dcSeUOvIGqWbkfLiApLRr00fKoCwZSGGqXRKJ07pLCQIHJ9YVtL45AVHQu4+pRx7kGckFRGB5K8DQb+SfBAAAAkgGf0XRH/wAAAwC+4A8jjpWbPYu7uMX2pqCjmkXe+W51swk+7gAV0sGYeRCLlFun/dChFaVws53/Ftw2YOitqBrQy9JmUd5aOi5YtGqWclouCcTnt1KhpaeDTi6SN4POf2QiVNXoWCAq6Df9W9AUU+0nLvrxHkzz5OqAm1oOgzntaW0VKOdsadL5wjrDOEp4lIeAAAAApgGf02pH/wAAAwC/SVO/2cpiIrDmZain/MpcRnzURAESD6PhajmcdgE+G1t3CdIw/CEfcrFVvDP14RmkQV/5zoIswZgcoXSnSsPnnKZIIUTGUjtn59gZ7qQz9E+77z78QYz014AA5Z8fmZgLFcnZu5PDcPBCv4PyGaPOIKGNkCP56l2c+JG2aRgZkvgip75gPnhTWyo/ZNY2+Pj/9jexu8sbeSrlfQQAAADlQZvYSahBbJlMCF///oywAAADAIfsMXvDQx8+fmVJGcKQfbeawAcYwdbJxSZo+IkDp88+HoIhPmXfaSq16BWVnxtIPztKzP+pO2j5KZvai/CtkRC4S4dwaDC7YvXAvkMfn0OUJdKhCX0p73sP1pBMtwpGJROxrOAyjEtfBWsAk+Drlcpghp66w/NY0cWRJhGP8l25oZJN2roHWq7eIuc0VpyrYaNtdufH1SeEHtoc+9nvZl3m/Mn6Uf/oifwyZG95Kxxyj4/w9tuFjN1WKocmhV9CZ+Z3kMvYi7X2TSo4ECnj4WY13QAAALVBn/ZFFSwj/wAAAwB29wpLw8XNJ5q3yUjo5xUcs5A795BWawAHG5+B03Dgxjumo4Z2RbnmY00/dbAJL5F8t9ieHv/dVzt6grjLsjWu4XcIqSHhp0iLKtJJLsMupuWYxWMDoealUPAdfSOv3tXsGj1MbGaWEw1kXE0m6Ax/teQM8801Xvy2C5fcMOvaLtTnvraQZELK730an0Y93zL/TmwVzX3G2GhBYm8DJDi1ciWAp5CPCKaAAAAAgQGeFXRH/wAAAwC+4A8jkcQhOyfKfWRnGADhRJmnVLwF+24sWKFUe3+RNFEr1ldosK+MOWCdw+651tf5fI4MM1xuWAxopNp1Z/uYqs+jH0lTyvGh923PWmdoFimwiLhgvinJPul0Jdonixa/lxwukSLv9x5QBmp5YFjGEfj0XqvKgQAAAG0BnhdqR/8AAAMAv0lTv9o3xVnmnDtModgntBt6fZ8OQv3MDo+mKgAtGj1e3rfbR3VwgrCUc/3GgNDTeJOxvnqDGb/Hwfat9mU+L+0dP4fsppxDE9Em/4oHO0FgRGcYwTQnbBgDxBP9LA5DJfqTAAAAu0GaGkmoQWyZTBRMM//+nhAAAAMAhsqgJ96ZOAyaf0pS5OelG/nHntJr2VgHAFbhgN16Mi2PpDb2yMWd3C3L++2DDSwKFdSwCFXToscqqmvoaWNaHVFPkAVIFAxaLJsdt4teXlAnizoLR3hVLoy9pr2LFtTh8ZleXBAOd7CHObtKyWwSUwdQeKF1i2+bKwAap91CbusqK+UJuYF6rn7n4Veqa+rVtpUF5te2x5ujtSRnTjX1qzXeIorGu4AAAACaAZ45akf/AAADAL943FkJpEG0Vr87mGjWnwSqrV23Kp3lbe8Zq4vgBbbR2dCD0Yo04ydPYgR//ySbiX3HfAfvipBkYEIRmKsL7irnm7EmDxRf0N3VPdKxP8+rX6wVA5YifTNxar383re6FHYRoQugnGbLP9gKBcLrVcQS9U1ktCzDtU8ymc5GZEYp/Jz6iYZ9jEwW2pLwJZAPiwAAAQ5Bmj5J4QpSZTAhn/6eFLM93gmIABHYzt7VVLShM6g4D5nf6XH44YU+4FYAP3AlpRQNcKJPg47R9FpjK8Br8H44V4KBCimBSXPnNhFlx67WjUMD6KuOnfil+qGCjAp/k5c3E843+UqcIkSre8yqiUpZ95/G0FiaYdn7JV0tPyrNO2aylxnJx2YiSliC1gwxkT3rFkI3K09sb04Z+ju6kw+4sL5+tqpzblRzm9YiYz6jloDO4RFNYyYQwQxLYS3PQdrDcsvhR2VqHPvj5s8C0gqJ0v0YQpS9XabITVPksxh43oT/WQN2H5GEPn8XV1nEuYgdx1ff4GWZoi/XMySWhwIZ6hduwMElVDoczubZ4EAAAACuQZ5cRTRMI/8JrHKCACIh1VTy6yssj1nLEGd6la6cea9bQAs0Ng5b3RkHYZWEbe5Z8V6yzaGAehqGrEnGuJigMtlM6HGrx0bI3Rima2a6du6F+51tph3So5QUeQIU9FfKusjr++q1AzL+8Ndm5g/mkWQ31YEu6aehj7lywfXRvByJ2VsqsrrfJRo8TAwjngN05zqQ7a3H2fftH8ovrlg5tDjv06QzSRs3hTykaiyhAAAAkQGee3RH/w2hMmwAKN1c3LNXeyJhkoTTpJqSinYgBZowGVRAu6lTPboxhHaRaggnn/hYde2Jb8W5L8F1ggua0aMwR5l0oKSkVKf/jGWic3Ob5fM67Kw/qDyJCz2ajZXklYubR8bOGEMnJaYilmhGMFEHpfvGjizMPIRpe/Kwn+4zqIoAsbWHxO4XetOo9fWNhs0AAABrAZ59akf/AAADAL9JU7/aCXB05LDlcm1NbwPQg75xPbK552HiGjZVeCAEpKOeciEqm9zLrwDkxRIsVoMfgRiutmjAbBWGxejwXsSdUDn5fEVwVUDIp2U7Q99r5TozqAo/vacYWF7o9JPc0IAAAAGLQZpiSahBaJlMCGf//p4QAAADAI6RgcAF0G8FgoV0lJTzkmz/vRaTSLe3s3tZcxAfaE1YW1580Uppvt9u1PpCeGunoyA9EuEGza4H86NTxYmhyKV9EOXoP6nGug433PciVnK/Efb4CWk17YErIkpvkxhnwDN3q+9fj6/SEfGneJf5XgD1SRcV5nbC3eq8ax2fphhRCt6DjcS0Q/gCSn/u1B8ks7lzsxT7x0bM86VKVllLNUo7tUp4MPDEV/Q/0Ecgrs2Lbaf3VjVAD83L+5zwCvzPj4974K9HRFr9/J7T4pHrX2bSMP2fzvbxkyikuuhgOzxQO+HEHMUSY7iuVvKg0nr4V1G0mhRvyJyhRkkmydwaPa9yVScV6heJ5djoMidhrV44xcSzZJuTiLP+d6M1e2uTK9e+/nv/K5t3zZZTnvtu4P/r+lZCPxC600wjW257jpd5TJDZuA2KRGc9bJxSODiKc+3kGXagFyyv36UNQBPDrI62JEFcSdOq5WG9mxavAJ9bYz+A8sxyiLgAAAClQZ6ARREsI/8AAAMAdvcKS8PMBB7VqnAdsAIRdjhUGNHcka8LJ71LQQE+0dnTXV/IFONIB2FZBfFzQvNtrFAUn31gxv/lGmoBvTTJyoevYDkoUYne3YNHcxdh/CZbr9j3CBuIhRxs4GyaOvT9MiLxHpRVqRdioO9a7KE39Bi+NXEe+it07O/tRUeqPrRB7WBi4XThVdcdnqiFZeWXnBa3Go4KLQKTAAAAgAGev3RH/wAAAwC+4A8jkPz8GvkAUkwh2OF6THmiz4i+0jONAIeBcYstUsJAQ88oBEi9Z04KJrQMhJay6gQL3MgbYRrgLcRd1mOEbGOjjspPucfkNqa/4+mzUnPQRvTpt2Hm12X+6FSHI1CMWEQrZVk8+48JsB+Vnb3Kn0ZJfULAAAAAggGeoWpH/wAAAwC/SVO/2pqbA30JADYOk5szmrTrisR3kvvN0MCLDG/utSi3M4axYrZWvBRKUJ4zRYwZxKHiEx3fcpqtzHZnLuqtzfceQlSyAGv+0qOPz/pf9XdRdxRggyvWopuiSF3DkEna3wGTHge3NBu7b/oCP7eB3JwotSvRcCEAAAGIQZqmSahBbJlMCGf//p4QAAADAJaRLkA1EvdqIOz+PM7TlQb1CN66GrWtaggisg3n9AsUKOXws7g10CaNNY5Y6JSC2P6vD2ZwkMRgj3fnPvTbp3Rrkj56/eRW4r0uvq4vBkqunoXYvJZ5c60uwo9t5pysexuafmd1oRj0nm3BsgrYOmWLotH2QFCetQfbohPWURdK63jap/T3KIUoFe4CY/as6/9/5XOeRWGAr1Cp4svHEO4EhsSVa52suENw2dc6UG0oVXmL6hgvWabJGJvvve1JCnUhq5RHyMYf2v2WbRumU4l4VNpz2BqG4nB3A2iGPOodWHb0VGPj4NBPRkRbiws/M1ehEIIMzwNERyYSGZbu2iiVZDBSO6uwtEQPh797U1t8A1TcP+YSGx6ZGgIEZL4SWCEAJMp9FxtYBbQ/OC2jo6Wev5s/KaG08KxJLCStBmwG22mAgo28qimtehRAa3dnREkAwHD1/zC8GwrkQ6rpq57wefwisuBOuFfZ1CYBIBWtfss+6kAAAACaQZ7ERRUsI/8AAAMAdvcKS8PMzCiZaaAAWYzr5ddv6IQbSHdmWejVm76uUIjq0+z9KQWnWcVGrK4U5iw0OxwZdj7LhOkbHAgHsQ9Dl5edb1XE9L9SDMqV/ItWjyyjvF7QJg8oBm09MKHNkHe8vWp4KqrKZ4lXQNv4RWwxREpNu2zqVSykHBMKI3ofmTJ7+tP5HWESHrSUASzowQAAAH8BnuN0R/8AAAMAvuAPI5HUoQ1nAAWfBpvwH/QPShAEbWHL+uuy4fbwkilwAz22DxyxMmzqNW51LDucKuoap2cXPr3scCQaAnP//MrU9Y+1mYCQKy4D02rWnh7rRzrU/iNiXAaNAqiP0o9Y+lE9307uMUZfhA1MbuusHCKzZOkZAAAAggGe5WpH/wAAAwC/SVO/2rYwiI0AH0LepD4IhtP4z44QoSGeenuyo9wV6Bxgb1g087esIssf9WSvgBWdclJO0/z4TUCv+38cZzkNIOHIbyFGU6SK8zeTMXR5pSmVzXjFAVT7BGpLDoYrT0qlK+u6526PIMjNILvfugPORKqHa6GH3uEAAAFcQZrqSahBbJlMCGf//p4QAAADAJakDOqicPWAEP8XXz17jsJYMh4srYrLfHcwMmw5LzRP8eT+ncljPS714o80S/gs990O05CGZDlF/hR42Dc9JrYuAg0mLApAguMFlzYUREl4iNYilDd1TXxzhqtmZ8XMCjOOE1i+O4B1v1bbQYmWJmBMeP7/Tgl68/sIO7ILU323zGVpYsxN+d1WUEB+Jt+NXAxuMn5CPowbbWOoYn1rQYSEuFg6QdrMCPrpsaICw0y/KjDtrboHC9ToxJMgwDscUT7hUsiMJ4GzAtKW/qij5osUDgVGKkSRurOi80hWODKSrkQFsrS+uB2yDOQIFHmOMGkGHRz6n2EOMt5wegw9NkJv8rIghRFOgqNAKGQxywjtXzU3SU9+aV2ZbTh25Of9c+NiU+KWOipWMD/TXyebmceWV03jlfMMaQu7bPBvbxTjwSGn2HuIS0nBAAAAoUGfCEUVLCP/AAADAHb3CkvDzMGCrpP99wgwAP3RqkENcvuJvPW1jxeE+LvasMhFxQjOok4t7Z/sQp+RWc0fc4nzFET4Z1u07ngap1wRzA1dTo2u9RYsux/wOSo4hAtcwRSsS1cC8/YZaJHIWvxCENFzgXam/hNepdhTP5hpxLMiVRCLaY8bgJkbjWrO7VUhkaqtShYDNaA9eiBfRqzNq4eAAAAAnAGfJ3RH/wAAAwC+4A8jkkVA8JaERws9a2MQAk5P5EpvDSS9BC7C4q/cuVh5Ehcbt2FyU9+fQR4o935w1ycTPCQG2bbm0vBERjLYdmmx9ZaJHi+s+FyKX3/aWUUEAV/ZP2h2r4S8RFo3++fnMZ5SqCxB2Nqe2+ZQT1/KPHClOSWRBqri7Pp0g9hLC0ZOzElvCim/iZr0tvA+KziBgAAAAIUBnylqR/8AAAMAv0lTv9qDxrCQNhkQvDvlFeWAALWXKMSKTzqb5DLb4BFmnZgUiZufYOT7pPr9C8LMtNI/T96x/2KB+LJ8kLsRVSgnk4Gz5MJkNVJ1EeXQ3w0LdLveTmTt0y9siNNb0qJ+to+qgX+C8w0Cg1qdjzpvta9w4J7LbKefkEypAAAAzUGbLkmoQWyZTAhn//6eEAAAAwA3JEDjtW/FiltASdL5tqabkAQJZtlTauG6NkykS/vayB2Ft1agAqw88WOA5ovSGNDgTJdGkOp063m0ny0e1IXBWgBbEVDu8zME2Jt2+zucfKP8q4yMOUZtYqykZbMPosw99rLF6AFBmuesDjB7urugneIFzBQPEet9UTSU2krUkn3YBk8DlpJRsST26Z95LANCY9i/Ws2HKZUJ7xrN3hKVg1IuItP8aKCCaBTrFT1UW/uWd45LRKvJgTgAAACQQZ9MRRUsI/8AAAMAdvcKS8PLPg0oP10UgjHrnQAlNN+dnj2fW6BZwjJMddUzEL2zrlny/Zmfm+JizKlxypKFpygPsux/lHvJ0mgDg29OMN4TBNTLIYxJOsg+oKGA77bnkWHoHqjk5CEEMV+osPosv/s6itsg9joRyyN2afp5FSp6aVebY2GdG+Y5ZUkYTUXAAAAAewGfa3RH/wAAAwC+4A8jkZzy4Ri55yYWHkokAJmVOccoF/1Wxy0VROplVdHqNXAbqLW9+WX/R0uKDZAjF0sHHslsdwIURUOcXhnGy5dOd36df2BOU8P/unRKsrB9e+nXG2aczJWd1oVqwHuDuZB6kNbxvrLxfpKF2fCHgQAAAFoBn21qR/8AAAMAv0lTv9qDxrBu38k4CkjcrhwpCLjs6JF2ADiEEkSxLHVCBZIdZBKqct4X/YCIs+0AjTcF7U5YUxP6OkF7UTiIEDXCp8cge2vf/cNPlUrWaysAAADbQZtySahBbJlMCGf//p4QAAADADNiuvqVXGcgDb1lhNrPBRMB3iQi4rg9hY7eVmruO9eMaxyRkKo+2xl7fQFzA0p8PvQ0tWg6qIxg+PoMUrvM34tLz+T5XvUTtli9sdPoz0VEYYNZx99hdIiMMCy0OkQBnpWQhbQuK5bgnBd6v78kbpz6gmZPQ9ZG41OcUzB67Aild0qCHpuUqZ/Bzu/XbpnE78KTxgfjfLzTvqyfnTQBWpAn02xi4Kaqo5yrLoiLNAWxUfe8vT9gTwuLnlBAclrjcrY9Uh594aTdAAAAX0GfkEUVLCP/AAADAHb3CkvDyzoR9TQAF0EhL9Mf6iXaDD/vInjS6XOHXHbGsqp1f8AmjQuiNdBvlgxVFuYK9l3E6ms2fTPPhYw+ekQx+/UXxcEIpYY1xE6/jF4zIJOAAAAAMAGfr3RH/wAAAwC+4A8jkZzy4N2cW6p5nn7zdWQa0l8ypVktqS9pj4isrtOKkg5puAAAAFYBn7FqR/8AAAMAv0lTv9qDxrBvwUCdoldi1JMAALGVgAqfLLT9zLdlvQN0WDL1NUan/zOybOTff8rCRDDnM/86MrWn7bMopHljW6tK/owE4k/fFd+DuwAAAMBBm7ZJqEFsmUwIZ//+nhAAAAMAM2yA07rrUTIXY84cxsxpqASPzhr2yqxIXiW3HbSePnsoqJdxshtAsMiF0W1XbFaJ0/aS8oa50UC58JG/NdrwJFAR7OLRofoTfYkmwdmBe1bXEcZ5SQwv/dk1C784e67oN7fqc0ATwJn4Gb9yE75koV+nsKZTn5yVfbpf8IckO9EZyHNiSJD7cOoOQaOF4fiixYuL+Ki2Ns4w8Zm5RSTRyztl+qQU52nCsh6CKg4AAABVQZ/URRUsI/8AAAMAdvcKS8PLOMqKFEp2Xe22nec619d2gBoGRfBX60UifFHC5BBLu/fY3YAi5+0xLx/UkkpoviQSj9L2q7tQGl3ml9vA21J+hIp4QAAAAEMBn/N0R/8AAAMAvuAPI5Gc8uDd13IHntFjbj6GDDGgBERGUYjkMrg/zd9+QP2RXxSA/Re0ZdFAZkDZi1j3hz0hSDehAAAASgGf9WpH/wAAAwC/SVO/2oPGsG0bGTIMRY7yyz+hv0enat1UAEJw3/rcfeQC9AYtpwv+U0I/GxNVkN4oRMaVn3nGxoHmfzhiKEQGAAAAwkGb+kmoQWyZTAhn//6eEAAAAwAzdB+lyANtH6Yf4fU1KB1N74j2US5IQUsTjSA38T4T4gqQW0vxeUUgRAyJlNAG8Rk1LNmklC6aZflabNrV/kYRmJtymLRl51MclTUUg+zm7Tz9rXsbjnO6XZyD38eqphodxuYgCw1WfTAEYQt4I42k9HFoHv6ottzhTDBKWFZqwaeaJHbpO3ed/EyT1YyjtI5f+Uln3MiE5EBOPCcQR3dMgkmer8mC987WwJqNWKuBAAAASUGeGEUVLCP/AAADAHb3CkvDyzrNlv3SeRBnc2QlFUzj0ttUkDxeUpOAAtnTJ8xHGmjjq4mRvmnJ9T8kXB5X8ffI6eIALXhQ0CEAAAAoAZ43dEf/AAADAL7gDyORnPLg2ilJXH4wXj9hf7ZHbwJvjurGxcCigAAAACwBnjlqR/8AAAMAv0lTv9qDxrBulgCyjbfV0y6C0zoPFY3kXHo+3jwdOnv2YQAAAIpBmj5JqEFsmUwIZ//+nhAAAAMAM3bExJQBff2nZAz3W1W3DyAqz0x4sR4MMXIBYNKtlM05PJsY7HPSWY8PevHbuWiZEdStKQR7EshuMF0rK5B+v1yVbaGOuw4+9+Gq7lAjTG3KVS2LagN6zYIHtsiF8v/r0M4xFKX9+gNohLDFzXBsSy2SPhPKU1sAAAA6QZ5cRRUsI/8AAAMAdvcKS8PLO4vTYeYxAs411QXDgJ5Qgf8X6qAjsl0mN+ZoEAJT/o6OKhdEXokQ8QAAACUBnnt0R/8AAAMAvuAPI5Gc8uDaJCLGR4XDQXWpmsD+cW698HTBAAAAIwGefWpH/wAAAwC/SVO/2oPGsG599fL5cm3/yj+s35MXIOOAAAAApUGaYkmoQWyZTAhn//6eEAAAAwAzb1a4Attw/ZKnv1uf2fjGeNtQNUaQ0EYPZGaW7M6VL0TDSOd/hZuv0HQ3Ax2ktGyV3c8BtaJzAulIpKqroAhu4XNIKDqRgVf3scT1j8WzrnM04H4QUooUFDBzfz9gp06Utac+uRnIca/2qOzFrKijG0f3KEGLvWf8I7+g16P8W/JAa2L7+Hbt6dOjdnzFzark3AAAACZBnoBFFSwj/wAAAwB29wpLw8s7i+4DPSvGLt9O1y8yixrgqtFDyQAAACEBnr90R/8AAAMAvuAPI5Gc8uDZ51FT/TjHGXQVazwAUkAAAAAfAZ6hakf/AAADAL9JU7/ag8awbpRD54jZoH9bwBAA/wAAADVBmqZJqEFsmUwIZ//+nhAAAAMAMPSshduhdMsc3CTRtgAIBUZveZseac9l7w2+OmltilG0WAAAACNBnsRFFSwj/wAAAwB29wpLw8s7jLeU2ND+kJE741eyUI4qFQAAACEBnuN0R/8AAAMAvuAPI5Gc8uDaJD50Cb5EBr8wZ7aAImEAAAAfAZ7lakf/AAADAL9JU7/ag8awbpLQjbTgMixeVGA/wQAAABpBmupJqEFsmUwIZ//+nhAAAAMAElVFU9DPgQAAACJBnwhFFSwj/wAAAwB29wpLw8s7jKwyiNByDfuhnkXwgC7gAAAAHQGfJ3RH/wAAAwC+4A8jkZzy4Nofkn/V1OxJagPyAAAAHgGfKWpH/wAAAwC/SVO/2oPGsG6S0I2036rwesC2gQAAABdBmy5JqEFsmUwIX//+jLAAAAMAAAMDQgAAACJBn0xFFSwj/wAAAwB29wpLw8s7jKwyiNByDfuhnkXwgC7gAAAAHQGfa3RH/wAAAwC+4A8jkZzy4Nofkn/V1OxJagPzAAAAHgGfbWpH/wAAAwC/SVO/2oPGsG6S0I2036rwesC2gQAAACVBm3JJqEFsmUwIX//+jLAAAAMAEoHuQARyhmp8k5zoiE0Db6JvAAAAIkGfkEUVLCP/AAADAHb3CkvDyzuMrDKI0HILV6Cbx3fYAXcAAAAeAZ+vdEf/AAADAL7gDyORnPLg2h+Sf9x9DW8qAI+AAAAAHgGfsWpH/wAAAwC/SVO/2oPGsG6S0I2036rwesC2gQAAABdBm7ZJqEFsmUwIX//+jLAAAAMAAAMDQgAAACJBn9RFFSwj/wAAAwB29wpLw8s7jKwyiNByDfuhnkXwgC7gAAAAHQGf83RH/wAAAwC+4A8jkZzy4Nofkn/V1OxJagPzAAAAHgGf9WpH/wAAAwC/SVO/2oPGsG6S0I2036rwesC2gAAAABZBm/pJqEFsmUwIV//+OEAAAAMAAAypAAAAIkGeGEUVLCP/AAADAHb3CkvDyzuMrDKI0HIN+6GeRfCALuEAAAAdAZ43dEf/AAADAL7gDyORnPLg2h+Sf9XU7ElqA/IAAAAeAZ45akf/AAADAL9JU7/ag8awbpLQjbTfqvB6wLaBAAAAFkGaPUmoQWyZTAj//IQAAAMAAAMAwIAAAAAiQZ5bRRUsI/8AAAMAdvcKS8PLO4ysMojQcg37oZ5F8IAu4QAAAB4BnnxqR/8AAAMAv0lTv9qDxrBuktCNtN+q8HrAtoEAAA1TbW9vdgAAAGxtdmhkAAAAAAAAAAAAAAAAAAAD6AAAEVgAAQAAAQAAAAAAAAAAAAAAAAEAAAAAAAAAAAAAAAAAAAABAAAAAAAAAAAAAAAAAABAAAAAAAAAAAAAAAAAAAAAAAAAAAAAAAAAAAAAAAAAAgAADH10cmFrAAAAXHRraGQAAAADAAAAAAAAAAAAAAABAAAAAAAAEVgAAAAAAAAAAAAAAAAAAAAAAAEAAAAAAAAAAAAAAAAAAAABAAAAAAAAAAAAAAAAAABAAAAAAlgAAAGQAAAAAAAkZWR0cwAAABxlbHN0AAAAAAAAAAEAABFYAAACAAABAAAAAAv1bWRpYQAAACBtZGhkAAAAAAAAAAAAAAAAAAAyAAAA3gBVxAAAAAAALWhkbHIAAAAAAAAAAHZpZGUAAAAAAAAAAAAAAABWaWRlb0hhbmRsZXIAAAALoG1pbmYAAAAUdm1oZAAAAAEAAAAAAAAAAAAAACRkaW5mAAAAHGRyZWYAAAAAAAAAAQAAAAx1cmwgAAAAAQAAC2BzdGJsAAAAmHN0c2QAAAAAAAAAAQAAAIhhdmMxAAAAAAAAAAEAAAAAAAAAAAAAAAAAAAAAAlgBkABIAAAASAAAAAAAAAABAAAAAAAAAAAAAAAAAAAAAAAAAAAAAAAAAAAAAAAAAAAAGP//AAAAMmF2Y0MBZAAf/+EAGWdkAB+s2UCYM+XhAAADAAEAAAMAZA8YMZYBAAZo6+PLIsAAAAAYc3R0cwAAAAAAAAABAAAA3gAAAQAAAAAUc3RzcwAAAAAAAAABAAAAAQAABthjdHRzAAAAAAAAANkAAAACAAACAAAAAAEAAAUAAAAAAQAAAgAAAAABAAAAAAAAAAEAAAEAAAAAAQAAAgAAAAABAAAEAAAAAAIAAAEAAAAAAQAABQAAAAABAAACAAAAAAEAAAAAAAAAAQAAAQAAAAABAAAFAAAAAAEAAAIAAAAAAQAAAAAAAAABAAABAAAAAAEAAAUAAAAAAQAAAgAAAAABAAAAAAAAAAEAAAEAAAAAAQAABQAAAAABAAACAAAAAAEAAAAAAAAAAQAAAQAAAAABAAAFAAAAAAEAAAIAAAAAAQAAAAAAAAABAAABAAAAAAEAAAMAAAAAAQAAAQAAAAABAAACAAAAAAEAAAUAAAAAAQAAAgAAAAABAAAAAAAAAAEAAAEAAAAAAQAABQAAAAABAAACAAAAAAEAAAAAAAAAAQAAAQAAAAABAAAFAAAAAAEAAAIAAAAAAQAAAAAAAAABAAABAAAAAAEAAAUAAAAAAQAAAgAAAAABAAAAAAAAAAEAAAEAAAAAAQAABQAAAAABAAACAAAAAAEAAAAAAAAAAQAAAQAAAAABAAAFAAAAAAEAAAIAAAAAAQAAAAAAAAABAAABAAAAAAEAAAUAAAAAAQAAAgAAAAABAAAAAAAAAAEAAAEAAAAAAQAABQAAAAABAAACAAAAAAEAAAAAAAAAAQAAAQAAAAABAAAFAAAAAAEAAAIAAAAAAQAAAAAAAAABAAABAAAAAAEAAAUAAAAAAQAAAgAAAAABAAAAAAAAAAEAAAEAAAAAAQAABQAAAAABAAACAAAAAAEAAAAAAAAAAQAAAQAAAAABAAAFAAAAAAEAAAIAAAAAAQAAAAAAAAABAAABAAAAAAEAAAUAAAAAAQAAAgAAAAABAAAAAAAAAAEAAAEAAAAAAQAABQAAAAABAAACAAAAAAEAAAAAAAAAAQAAAQAAAAABAAAFAAAAAAEAAAIAAAAAAQAAAAAAAAABAAABAAAAAAEAAAUAAAAAAQAAAgAAAAABAAAAAAAAAAEAAAEAAAAAAQAABQAAAAABAAACAAAAAAEAAAAAAAAAAQAAAQAAAAABAAAFAAAAAAEAAAIAAAAAAQAAAAAAAAABAAABAAAAAAEAAAUAAAAAAQAAAgAAAAABAAAAAAAAAAEAAAEAAAAAAQAABQAAAAABAAACAAAAAAEAAAAAAAAAAQAAAQAAAAABAAAEAAAAAAIAAAEAAAAAAQAAAwAAAAABAAABAAAAAAEAAAUAAAAAAQAAAgAAAAABAAAAAAAAAAEAAAEAAAAAAQAABQAAAAABAAACAAAAAAEAAAAAAAAAAQAAAQAAAAABAAAFAAAAAAEAAAIAAAAAAQAAAAAAAAABAAABAAAAAAEAAAQAAAAAAgAAAQAAAAABAAAFAAAAAAEAAAIAAAAAAQAAAAAAAAABAAABAAAAAAEAAAUAAAAAAQAAAgAAAAABAAAAAAAAAAEAAAEAAAAAAQAABQAAAAABAAACAAAAAAEAAAAAAAAAAQAAAQAAAAABAAAFAAAAAAEAAAIAAAAAAQAAAAAAAAABAAABAAAAAAEAAAUAAAAAAQAAAgAAAAABAAAAAAAAAAEAAAEAAAAAAQAAAwAAAAABAAABAAAAAAEAAAUAAAAAAQAAAgAAAAABAAAAAAAAAAEAAAEAAAAAAQAABQAAAAABAAACAAAAAAEAAAAAAAAAAQAAAQAAAAABAAAFAAAAAAEAAAIAAAAAAQAAAAAAAAABAAABAAAAAAEAAAUAAAAAAQAAAgAAAAABAAAAAAAAAAEAAAEAAAAAAQAABQAAAAABAAACAAAAAAEAAAAAAAAAAQAAAQAAAAABAAAFAAAAAAEAAAIAAAAAAQAAAAAAAAABAAABAAAAAAEAAAUAAAAAAQAAAgAAAAABAAAAAAAAAAEAAAEAAAAAAQAABQAAAAABAAACAAAAAAEAAAAAAAAAAQAAAQAAAAABAAAFAAAAAAEAAAIAAAAAAQAAAAAAAAABAAABAAAAAAEAAAUAAAAAAQAAAgAAAAABAAAAAAAAAAEAAAEAAAAAAQAABQAAAAABAAACAAAAAAEAAAAAAAAAAQAAAQAAAAABAAAFAAAAAAEAAAIAAAAAAQAAAAAAAAABAAABAAAAAAEAAAUAAAAAAQAAAgAAAAABAAAAAAAAAAEAAAEAAAAAAQAABQAAAAABAAACAAAAAAEAAAAAAAAAAQAAAQAAAAABAAAFAAAAAAEAAAIAAAAAAQAAAAAAAAABAAABAAAAAAEAAAUAAAAAAQAAAgAAAAABAAAAAAAAAAEAAAEAAAAAAQAABAAAAAACAAABAAAAABxzdHNjAAAAAAAAAAEAAAABAAAA3gAAAAEAAAOMc3RzegAAAAAAAAAAAAAA3gAACdYAAAEsAAAAywAAAEwAAAAzAAAAQQAAAL8AAAEtAAAAaAAAAG8AAAFaAAAAswAAAIAAAACFAAABXwAAALIAAACeAAAAmQAAAUoAAADDAAAAlwAAAJMAAAEYAAAA1AAAAKMAAAC1AAABIwAAAOQAAACJAAAApwAAAQcAAACfAAABCgAAATAAAACUAAAAngAAAKAAAAEoAAAAywAAAJsAAAC6AAABDAAAALwAAACXAAAApwAAAUEAAACeAAAAggAAALcAAAE8AAAAwwAAAK8AAACSAAABKQAAAJsAAACyAAAAtAAAAUEAAAC5AAAAngAAAKIAAAEzAAAAvgAAAKoAAACjAAABQAAAAL8AAACCAAAAmAAAASAAAACHAAAAtQAAALQAAAEjAAAA1wAAAJ0AAAC/AAABDAAAAMAAAAC+AAAAoQAAAQ0AAADFAAAAoQAAAL4AAAETAAAAxwAAALsAAACsAAABHQAAAMIAAADBAAAAsQAAASUAAADKAAAAugAAAK8AAAEdAAAA0gAAALUAAACtAAABNAAAANMAAACfAAAAnQAAAYYAAAD3AAAAoAAAANEAAAFcAAAA7wAAAK8AAAC1AAABPQAAAMEAAACSAAABSwAAAI4AAAGMAAAA6wAAAIkAAACTAAABgQAAAM0AAAC7AAAAdwAAAXAAAAC2AAAAgQAAAIAAAAESAAAAkAAAAJgAAAEaAAAApQAAAIEAAAB/AAABJgAAAJoAAACTAAAArAAAAUMAAACMAAAAlAAAAGsAAADHAAAAfgAAAJYAAACqAAAA6QAAALkAAACFAAAAcQAAAL8AAACeAAABEgAAALIAAACVAAAAbwAAAY8AAACpAAAAhAAAAIYAAAGMAAAAngAAAIMAAACGAAABYAAAAKUAAACgAAAAiQAAANEAAACUAAAAfwAAAF4AAADfAAAAYwAAADQAAABaAAAAxAAAAFkAAABHAAAATgAAAMYAAABNAAAALAAAADAAAACOAAAAPgAAACkAAAAnAAAAqQAAACoAAAAlAAAAIwAAADkAAAAnAAAAJQAAACMAAAAeAAAAJgAAACEAAAAiAAAAGwAAACYAAAAhAAAAIgAAACkAAAAmAAAAIgAAACIAAAAbAAAAJgAAACEAAAAiAAAAGgAAACYAAAAhAAAAIgAAABoAAAAmAAAAIgAAABRzdGNvAAAAAAAAAAEAAAAwAAAAYnVkdGEAAABabWV0YQAAAAAAAAAhaGRscgAAAAAAAAAAbWRpcmFwcGwAAAAAAAAAAAAAAAAtaWxzdAAAACWpdG9vAAAAHWRhdGEAAAABAAAAAExhdmY1Ny44My4xMDA=\" type=\"video/mp4\" />\n",
              "             </video>"
            ],
            "text/plain": [
              "<IPython.core.display.HTML object>"
            ]
          },
          "metadata": {
            "tags": []
          }
        }
      ]
    },
    {
      "cell_type": "code",
      "metadata": {
        "id": "RD7kwjl3lRoY",
        "colab_type": "code",
        "colab": {}
      },
      "source": [
        ""
      ],
      "execution_count": 0,
      "outputs": []
    }
  ]
}